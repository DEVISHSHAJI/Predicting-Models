{
  "nbformat": 4,
  "nbformat_minor": 0,
  "metadata": {
    "colab": {
      "name": "Multiple -linear -regression boston_dataset.ipynb",
      "provenance": [],
      "collapsed_sections": [],
      "authorship_tag": "ABX9TyOQgF/8OuUIAaq3THcWH+oi",
      "include_colab_link": true
    },
    "kernelspec": {
      "name": "python3",
      "display_name": "Python 3"
    },
    "language_info": {
      "name": "python"
    }
  },
  "cells": [
    {
      "cell_type": "markdown",
      "metadata": {
        "id": "view-in-github",
        "colab_type": "text"
      },
      "source": [
        "<a href=\"https://colab.research.google.com/github/fbghkh1999/Multi_predict_model_base-on-different-datasets/blob/main/multiple%20_linear_regression/Multiple_linear_regression_boston_dataset.ipynb\" target=\"_parent\"><img src=\"https://colab.research.google.com/assets/colab-badge.svg\" alt=\"Open In Colab\"/></a>"
      ]
    },
    {
      "cell_type": "code",
      "metadata": {
        "id": "BrFYKiImcILA"
      },
      "source": [
        "import pandas as pd\n",
        "import numpy as np \n",
        "import matplotlib.pyplot as plt\n",
        "import seaborn as sns\n",
        "% matplotlib inline"
      ],
      "execution_count": null,
      "outputs": []
    },
    {
      "cell_type": "code",
      "metadata": {
        "id": "jZwUtQaOczII"
      },
      "source": [
        "from sklearn.datasets import load_boston\n",
        "boston=load_boston()\n",
        "x=boston.data\n",
        "y=boston.target\n"
      ],
      "execution_count": null,
      "outputs": []
    },
    {
      "cell_type": "code",
      "metadata": {
        "id": "3v79eUf2dULH",
        "colab": {
          "base_uri": "https://localhost:8080/"
        },
        "outputId": "c09c5172-b293-4f00-ff1a-4b8ff6279bab"
      },
      "source": [
        "from sklearn.model_selection import  train_test_split\n",
        "X_train, X_test, y_train, y_test=train_test_split( x,y, random_state=76,test_size=0.3,train_size=0.7)\n",
        "X_train"
      ],
      "execution_count": null,
      "outputs": [
        {
          "output_type": "execute_result",
          "data": {
            "text/plain": [
              "array([[3.83518e+01, 0.00000e+00, 1.81000e+01, ..., 2.02000e+01,\n",
              "        3.96900e+02, 3.05900e+01],\n",
              "       [1.52880e+01, 0.00000e+00, 1.81000e+01, ..., 2.02000e+01,\n",
              "        3.63020e+02, 2.32400e+01],\n",
              "       [7.84200e-01, 0.00000e+00, 8.14000e+00, ..., 2.10000e+01,\n",
              "        3.86750e+02, 1.46700e+01],\n",
              "       ...,\n",
              "       [5.29305e+00, 0.00000e+00, 1.81000e+01, ..., 2.02000e+01,\n",
              "        3.78380e+02, 1.87600e+01],\n",
              "       [6.07600e-02, 0.00000e+00, 1.19300e+01, ..., 2.10000e+01,\n",
              "        3.96900e+02, 5.64000e+00],\n",
              "       [1.46336e+00, 0.00000e+00, 1.95800e+01, ..., 1.47000e+01,\n",
              "        3.74430e+02, 1.73000e+00]])"
            ]
          },
          "metadata": {
            "tags": []
          },
          "execution_count": 33
        }
      ]
    },
    {
      "cell_type": "code",
      "metadata": {
        "id": "5rB-z-LAfJeG"
      },
      "source": [
        "# normalize dataset\n",
        "from sklearn.preprocessing import MinMaxScaler\n",
        "scale=MinMaxScaler(feature_range=(0,1))\n",
        "x_train=scale.fit_transform(X_train)\n",
        "x_test=scale.fit_transform(X_test)\n",
        "y_train=y_train.reshape(-1,1)\n",
        "y_train=scale.fit_transform(y_train)\n",
        "\n"
      ],
      "execution_count": null,
      "outputs": []
    },
    {
      "cell_type": "code",
      "metadata": {
        "id": "zfy8m79HslPg"
      },
      "source": [
        "from sklearn.linear_model import LinearRegression\n",
        "linearReg=LinearRegression()\n",
        "linearReg.fit(x_train,y_train)\n",
        "y_pred=linearReg.predict(x_test)\n",
        "y_pred_new=scale.inverse_transform(y_pred)\n"
      ],
      "execution_count": null,
      "outputs": []
    },
    {
      "cell_type": "code",
      "metadata": {
        "colab": {
          "base_uri": "https://localhost:8080/"
        },
        "id": "Am5pqAxKzbYY",
        "outputId": "033eb389-5d33-479c-e065-35d43c5b4dd9"
      },
      "source": [
        "from sklearn.metrics import mean_absolute_error\n",
        "from sklearn.metrics import mean_squared_error\n",
        "from sklearn.metrics import r2_score\n",
        "mean_absolute_error(y_test,y_pred_new)\n",
        "y_pred_new"
      ],
      "execution_count": null,
      "outputs": [
        {
          "output_type": "execute_result",
          "data": {
            "text/plain": [
              "array([[11.57857042],\n",
              "       [18.02830278],\n",
              "       [23.45891598],\n",
              "       [31.3677831 ],\n",
              "       [29.47967977],\n",
              "       [26.56906426],\n",
              "       [20.86428828],\n",
              "       [24.49444748],\n",
              "       [27.66713069],\n",
              "       [17.39590357],\n",
              "       [18.86176708],\n",
              "       [14.33713049],\n",
              "       [11.90786487],\n",
              "       [23.10773711],\n",
              "       [17.92063489],\n",
              "       [23.35557296],\n",
              "       [18.48187283],\n",
              "       [ 4.88817524],\n",
              "       [20.55573236],\n",
              "       [19.03954416],\n",
              "       [21.77215964],\n",
              "       [29.81600454],\n",
              "       [20.65749596],\n",
              "       [18.74890092],\n",
              "       [10.22444955],\n",
              "       [29.26815029],\n",
              "       [26.3728474 ],\n",
              "       [34.2628906 ],\n",
              "       [20.1339041 ],\n",
              "       [23.8480181 ],\n",
              "       [18.10057513],\n",
              "       [18.80171534],\n",
              "       [23.00799611],\n",
              "       [22.63077944],\n",
              "       [28.39172842],\n",
              "       [22.62851069],\n",
              "       [21.59171569],\n",
              "       [19.75822865],\n",
              "       [23.04134683],\n",
              "       [20.31014301],\n",
              "       [12.56593393],\n",
              "       [19.74757558],\n",
              "       [37.7544007 ],\n",
              "       [24.66674902],\n",
              "       [19.41411963],\n",
              "       [22.07726078],\n",
              "       [15.56091848],\n",
              "       [29.97857576],\n",
              "       [27.26765648],\n",
              "       [15.89897698],\n",
              "       [24.13563979],\n",
              "       [30.29149162],\n",
              "       [12.65984794],\n",
              "       [19.69868534],\n",
              "       [18.48161394],\n",
              "       [20.61290314],\n",
              "       [28.25881178],\n",
              "       [22.8480658 ],\n",
              "       [20.24351598],\n",
              "       [ 8.3571591 ],\n",
              "       [20.28975292],\n",
              "       [15.69571672],\n",
              "       [23.55535757],\n",
              "       [15.9091745 ],\n",
              "       [16.77195063],\n",
              "       [21.34176093],\n",
              "       [23.34403608],\n",
              "       [22.02175882],\n",
              "       [ 8.02416983],\n",
              "       [24.36409686],\n",
              "       [25.85702409],\n",
              "       [18.5063546 ],\n",
              "       [24.76897412],\n",
              "       [12.27094922],\n",
              "       [31.76113721],\n",
              "       [18.46079676],\n",
              "       [14.16163246],\n",
              "       [20.76209414],\n",
              "       [24.49159781],\n",
              "       [31.60620731],\n",
              "       [24.01249118],\n",
              "       [26.51153909],\n",
              "       [-0.39683197],\n",
              "       [37.73598818],\n",
              "       [16.52590939],\n",
              "       [24.2569931 ],\n",
              "       [ 0.88240604],\n",
              "       [35.77608526],\n",
              "       [20.95285355],\n",
              "       [28.71307822],\n",
              "       [26.79828381],\n",
              "       [-0.34361291],\n",
              "       [39.85869942],\n",
              "       [15.00389881],\n",
              "       [24.95790495],\n",
              "       [19.27211099],\n",
              "       [27.84464113],\n",
              "       [17.02018135],\n",
              "       [13.55739154],\n",
              "       [23.20931225],\n",
              "       [33.26417023],\n",
              "       [33.45882575],\n",
              "       [12.1964578 ],\n",
              "       [15.78341357],\n",
              "       [23.33838582],\n",
              "       [15.98604603],\n",
              "       [20.28500064],\n",
              "       [16.51116298],\n",
              "       [13.54921737],\n",
              "       [18.30649606],\n",
              "       [20.3830009 ],\n",
              "       [27.34454419],\n",
              "       [19.94964903],\n",
              "       [16.73583521],\n",
              "       [ 9.67125184],\n",
              "       [23.20425871],\n",
              "       [24.06946489],\n",
              "       [15.1120902 ],\n",
              "       [14.39227101],\n",
              "       [ 7.69027179],\n",
              "       [19.7899021 ],\n",
              "       [19.53983661],\n",
              "       [25.3667471 ],\n",
              "       [29.39607261],\n",
              "       [33.39980983],\n",
              "       [37.60300696],\n",
              "       [42.2253231 ],\n",
              "       [-8.26914076],\n",
              "       [19.00076524],\n",
              "       [44.11372563],\n",
              "       [32.61459669],\n",
              "       [10.74190175],\n",
              "       [22.80755039],\n",
              "       [23.25234264],\n",
              "       [24.94371639],\n",
              "       [16.87990306],\n",
              "       [ 4.39799492],\n",
              "       [32.14980717],\n",
              "       [17.39143576],\n",
              "       [15.90626626],\n",
              "       [29.92703849],\n",
              "       [26.63463519],\n",
              "       [36.560198  ],\n",
              "       [30.62874079],\n",
              "       [21.36676061],\n",
              "       [20.91431837],\n",
              "       [33.99314269],\n",
              "       [30.91731394],\n",
              "       [31.27175431],\n",
              "       [17.25661329],\n",
              "       [19.14191689],\n",
              "       [16.73653647]])"
            ]
          },
          "metadata": {
            "tags": []
          },
          "execution_count": 36
        }
      ]
    },
    {
      "cell_type": "code",
      "metadata": {
        "id": "Zs-8VeM6h0DS",
        "colab": {
          "base_uri": "https://localhost:8080/"
        },
        "outputId": "3be83b1a-022e-47a0-9881-1fcf84c0529e"
      },
      "source": [
        "y_pred"
      ],
      "execution_count": null,
      "outputs": [
        {
          "output_type": "execute_result",
          "data": {
            "text/plain": [
              "array([[ 0.51969849],\n",
              "       [ 0.2822739 ],\n",
              "       [ 0.34466602],\n",
              "       [-0.08933833],\n",
              "       [ 0.19486078],\n",
              "       [ 0.31369087],\n",
              "       [ 0.34159315],\n",
              "       [ 0.01305545],\n",
              "       [ 0.44727679],\n",
              "       [ 0.88526116],\n",
              "       [ 0.72781221],\n",
              "       [ 0.12500613],\n",
              "       [ 0.69003118],\n",
              "       [ 0.40082563],\n",
              "       [ 0.31098206],\n",
              "       [ 0.16829605],\n",
              "       [ 0.55977435],\n",
              "       [ 0.41067964],\n",
              "       [ 0.15020573],\n",
              "       [ 0.24863068],\n",
              "       [ 0.16486943],\n",
              "       [ 0.52149582],\n",
              "       [ 0.49072799],\n",
              "       [ 0.1621135 ],\n",
              "       [ 0.19713965],\n",
              "       [ 0.27305541],\n",
              "       [ 0.18945348],\n",
              "       [ 0.28146044],\n",
              "       [ 0.784591  ],\n",
              "       [ 0.26159859],\n",
              "       [-0.16704539],\n",
              "       [ 0.11895035],\n",
              "       [ 0.25785974],\n",
              "       [ 0.60350093],\n",
              "       [ 0.15865545],\n",
              "       [ 0.056394  ],\n",
              "       [ 0.40433962],\n",
              "       [ 0.26160912],\n",
              "       [ 0.22410111],\n",
              "       [ 0.29643147],\n",
              "       [ 0.171291  ],\n",
              "       [ 0.44284606],\n",
              "       [ 0.43833995],\n",
              "       [ 0.84506503],\n",
              "       [ 0.20920643],\n",
              "       [ 0.2667346 ],\n",
              "       [-0.06090861],\n",
              "       [ 0.27047239],\n",
              "       [ 0.24547946],\n",
              "       [ 0.36407805],\n",
              "       [-0.02143628],\n",
              "       [ 0.4959935 ],\n",
              "       [ 0.58022528],\n",
              "       [ 0.25988552],\n",
              "       [ 0.37939914],\n",
              "       [ 0.69549635],\n",
              "       [ 0.13862843],\n",
              "       [ 0.3493165 ],\n",
              "       [ 0.57685368],\n",
              "       [ 0.27253922],\n",
              "       [-0.16424332],\n",
              "       [ 0.13057205],\n",
              "       [ 0.72342724],\n",
              "       [ 0.21478892],\n",
              "       [ 0.37787638],\n",
              "       [ 0.1937581 ],\n",
              "       [ 0.17320712],\n",
              "       [ 0.3009616 ],\n",
              "       [ 0.0038445 ],\n",
              "       [ 0.37064388],\n",
              "       [ 0.35119432],\n",
              "       [ 0.14172225],\n",
              "       [ 0.1569803 ],\n",
              "       [ 0.21150851],\n",
              "       [ 0.3550152 ],\n",
              "       [ 0.39730396],\n",
              "       [ 0.56301976],\n",
              "       [ 0.09791104],\n",
              "       [ 0.34010878],\n",
              "       [ 0.04579811],\n",
              "       [ 0.44666358],\n",
              "       [ 0.09214207],\n",
              "       [ 0.77869536],\n",
              "       [ 0.42916185],\n",
              "       [ 0.33868623],\n",
              "       [ 0.44707232],\n",
              "       [ 0.40617984],\n",
              "       [ 0.11833881],\n",
              "       [ 0.18272691],\n",
              "       [ 0.44732925],\n",
              "       [-0.16624482],\n",
              "       [ 0.4968968 ],\n",
              "       [ 0.68625802],\n",
              "       [ 0.28213122],\n",
              "       [ 0.19283399],\n",
              "       [ 0.27336455],\n",
              "       [ 0.18325552],\n",
              "       [ 0.20210429],\n",
              "       [ 0.21138764],\n",
              "       [ 0.09894899],\n",
              "       [ 0.17774596],\n",
              "       [ 0.68801472],\n",
              "       [ 0.32478061],\n",
              "       [ 0.3555833 ],\n",
              "       [ 0.67988722],\n",
              "       [ 0.55081961],\n",
              "       [ 0.32878184],\n",
              "       [ 0.33243048],\n",
              "       [ 0.53930523],\n",
              "       [ 0.56474937],\n",
              "       [ 0.06616306],\n",
              "       [ 0.50037581],\n",
              "       [ 0.19915032],\n",
              "       [ 0.39422845],\n",
              "       [ 0.41661444],\n",
              "       [ 0.33434629],\n",
              "       [ 0.28598438],\n",
              "       [ 0.21039935],\n",
              "       [ 0.15336217],\n",
              "       [ 0.35538682],\n",
              "       [ 0.62828101],\n",
              "       [ 0.32590888],\n",
              "       [ 0.48556294],\n",
              "       [ 0.49290474],\n",
              "       [ 0.56304358],\n",
              "       [ 0.61874657],\n",
              "       [ 0.48159048],\n",
              "       [ 0.14016443],\n",
              "       [ 0.47408902],\n",
              "       [ 0.05739879],\n",
              "       [ 0.54898616],\n",
              "       [ 0.27817351],\n",
              "       [ 0.09031741],\n",
              "       [ 0.21864663],\n",
              "       [ 0.19591261],\n",
              "       [ 0.22939406],\n",
              "       [ 0.26543762],\n",
              "       [ 0.71805268],\n",
              "       [ 0.26978351],\n",
              "       [ 0.45193618],\n",
              "       [ 0.60818368],\n",
              "       [ 0.2378989 ],\n",
              "       [ 0.28300109],\n",
              "       [ 0.27836494],\n",
              "       [ 0.2760728 ],\n",
              "       [ 0.19641559],\n",
              "       [ 0.44541422],\n",
              "       [ 0.16555289],\n",
              "       [ 0.40679532],\n",
              "       [ 0.10735571],\n",
              "       [ 0.14852553],\n",
              "       [ 0.58992478]])"
            ]
          },
          "metadata": {
            "tags": []
          },
          "execution_count": 29
        }
      ]
    },
    {
      "cell_type": "code",
      "metadata": {
        "colab": {
          "base_uri": "https://localhost:8080/"
        },
        "id": "lBOVdwRS0Gw0",
        "outputId": "bbcd6b17-a33a-4523-b1e4-fe264622390e"
      },
      "source": [
        "mean_squared_error(y_test,y_pred_new)"
      ],
      "execution_count": null,
      "outputs": [
        {
          "output_type": "execute_result",
          "data": {
            "text/plain": [
              "18.694472333807862"
            ]
          },
          "metadata": {
            "tags": []
          },
          "execution_count": 37
        }
      ]
    },
    {
      "cell_type": "code",
      "metadata": {
        "colab": {
          "base_uri": "https://localhost:8080/"
        },
        "id": "oZvLG2hQ0dZF",
        "outputId": "891a462c-b242-4e1f-f225-8d82561044d8"
      },
      "source": [
        "r2_score(y_test,y_pred_new)"
      ],
      "execution_count": null,
      "outputs": [
        {
          "output_type": "execute_result",
          "data": {
            "text/plain": [
              "0.714586367888878"
            ]
          },
          "metadata": {
            "tags": []
          },
          "execution_count": 38
        }
      ]
    },
    {
      "cell_type": "code",
      "metadata": {
        "id": "qUuuOzJaGOkd"
      },
      "source": [
        "#polynomial_linear_regression\n"
      ],
      "execution_count": null,
      "outputs": []
    },
    {
      "cell_type": "code",
      "metadata": {
        "id": "20zqGNhrhfOn"
      },
      "source": [
        "from sklearn.datasets import load_boston\n",
        "boston=load_boston()\n",
        "x1=boston.data[:,5]\n",
        "y1=boston.target\n",
        "from sklearn.model_selection import train_test_split\n",
        "X_train, X_test, y_train, y_test =train_test_split(x1,y1,random_state=76,test_size=0.3,train_size=0.7)"
      ],
      "execution_count": 44,
      "outputs": []
    },
    {
      "cell_type": "code",
      "metadata": {
        "id": "aQG0Ehs5HhlT"
      },
      "source": [
        "from sklearn.preprocessing import  PolynomialFeatures\n",
        "poly=PolynomialFeatures(degree=2)\n",
        "X_train=X_train.reshape(-1,1)\n",
        "Poly_x_train=poly.fit_transform(X_train)\n",
        "X_test=X_test.reshape(-1,1)\n",
        "poly_x_test=poly.fit_transform(X_test)"
      ],
      "execution_count": 49,
      "outputs": []
    },
    {
      "cell_type": "code",
      "metadata": {
        "id": "Xrc6oHd-JHSB"
      },
      "source": [
        "from sklearn.linear_model import LinearRegression\n",
        "lr=LinearRegression()\n",
        "lr.fit(Poly_x_train,y_train)\n",
        "poly_y=lr.predict(poly_x_test)"
      ],
      "execution_count": 51,
      "outputs": []
    },
    {
      "cell_type": "code",
      "metadata": {
        "colab": {
          "base_uri": "https://localhost:8080/"
        },
        "id": "kh5A6AiNJvJD",
        "outputId": "e9d831d1-58e3-46cb-fe6c-3c2df8095193"
      },
      "source": [
        "poly_y\n",
        "r2_score(y_test,poly_y)\n",
        "# for this dataset is not good"
      ],
      "execution_count": 53,
      "outputs": [
        {
          "output_type": "execute_result",
          "data": {
            "text/plain": [
              "0.6581796714410476"
            ]
          },
          "metadata": {
            "tags": []
          },
          "execution_count": 53
        }
      ]
    }
  ]
}