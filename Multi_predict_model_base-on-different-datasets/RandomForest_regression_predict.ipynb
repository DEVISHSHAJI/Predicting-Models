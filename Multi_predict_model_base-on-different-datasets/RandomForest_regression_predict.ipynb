{
  "nbformat": 4,
  "nbformat_minor": 0,
  "metadata": {
    "colab": {
      "name": "RandomForest_regression_predict.ipynb",
      "provenance": [],
      "authorship_tag": "ABX9TyO/UkBVMEvO5NBvE3bXKbqS",
      "include_colab_link": true
    },
    "kernelspec": {
      "name": "python3",
      "display_name": "Python 3"
    },
    "language_info": {
      "name": "python"
    }
  },
  "cells": [
    {
      "cell_type": "markdown",
      "metadata": {
        "id": "view-in-github",
        "colab_type": "text"
      },
      "source": [
        "<a href=\"https://colab.research.google.com/github/fbghkh1999/Multi_predict_model_base-on-different-datasets/blob/main/Multi_predict_model_base-on-different-datasets/RandomForest_regression_predict.ipynb\" target=\"_parent\"><img src=\"https://colab.research.google.com/assets/colab-badge.svg\" alt=\"Open In Colab\"/></a>"
      ]
    },
    {
      "cell_type": "code",
      "metadata": {
        "id": "D7sMucl9d1GO"
      },
      "source": [
        "import pandas as pd\n",
        "import numpy as np\n",
        "import matplotlib.pyplot as plt\n",
        "import seaborn as sns\n",
        "% matplotlib inline\n"
      ],
      "execution_count": 1,
      "outputs": []
    },
    {
      "cell_type": "code",
      "metadata": {
        "id": "RO5QJbrPfCa8"
      },
      "source": [
        "from sklearn.datasets import load_boston\n",
        "boston=load_boston()\n",
        "x=boston.data\n",
        "y=boston.target"
      ],
      "execution_count": 2,
      "outputs": []
    },
    {
      "cell_type": "code",
      "metadata": {
        "id": "r64fiZ5tfcAl"
      },
      "source": [
        "from sklearn.model_selection import train_test_split\n",
        "X_train, X_test, y_train, y_test=train_test_split(x,y,random_state=88,test_size=0.3)\n",
        "from sklearn.preprocessing import MinMaxScaler\n",
        "sc=MinMaxScaler(feature_range=(-1,1))\n",
        "x_train=sc.fit_transform(X_train)\n",
        "x_test=sc.fit_transform(X_test)\n",
        "y_train=y_train.reshape(-1,1)\n",
        "y_train=sc.fit_transform(y_train)"
      ],
      "execution_count": 3,
      "outputs": []
    },
    {
      "cell_type": "code",
      "metadata": {
        "id": "c6WP8vihg_Wt"
      },
      "source": [
        "from sklearn.ensemble import RandomForestRegressor\n",
        "Rf=RandomForestRegressor(random_state=50,n_estimators=120)\n",
        "Rf.fit(x_train,y_train)\n",
        "y_pred=Rf.predict(x_test)\n",
        "y_pred=y_pred.reshape(-1,1)\n",
        "y_pred=sc.inverse_transform(y_pred)\n",
        "from sklearn.metrics import r2_score\n",
        "r2_score(y_test,y_pred)"
      ],
      "execution_count": null,
      "outputs": []
    }
  ]
}