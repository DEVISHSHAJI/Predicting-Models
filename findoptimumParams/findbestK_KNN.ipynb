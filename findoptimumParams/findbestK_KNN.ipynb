{
  "nbformat": 4,
  "nbformat_minor": 0,
  "metadata": {
    "colab": {
      "name": "findbestK_KNN.ipynb",
      "provenance": [],
      "authorship_tag": "ABX9TyP55gv2XYXCadPseZh+j7rD",
      "include_colab_link": true
    },
    "kernelspec": {
      "name": "python3",
      "display_name": "Python 3"
    },
    "language_info": {
      "name": "python"
    }
  },
  "cells": [
    {
      "cell_type": "markdown",
      "metadata": {
        "id": "view-in-github",
        "colab_type": "text"
      },
      "source": [
        "<a href=\"https://colab.research.google.com/github/fbghkh1999/Multi_predict_model_base-on-different-datasets/blob/main/findoptimumParams/findbestK_KNN.ipynb\" target=\"_parent\"><img src=\"https://colab.research.google.com/assets/colab-badge.svg\" alt=\"Open In Colab\"/></a>"
      ]
    },
    {
      "cell_type": "code",
      "metadata": {
        "id": "nyhYIkICoC-y"
      },
      "source": [
        "# find best k in knn\n",
        "import pandas as pd\n",
        "import numpy as np\n",
        "import matplotlib.pyplot as plt\n",
        "import seaborn as sns\n",
        "% matplotlib inline"
      ],
      "execution_count": 2,
      "outputs": []
    },
    {
      "cell_type": "code",
      "metadata": {
        "id": "X1rkW01noghj"
      },
      "source": [
        "from sklearn.datasets import load_iris\n",
        "iris=load_iris()\n",
        "iris_data=iris.data\n",
        "knn_accuracy_test=[]\n",
        "from sklearn.model_selection import train_test_split\n",
        "X_train, X_test, y_train, y_test=train_test_split(iris_data,iris.target,random_state=42,test_size=0.3)"
      ],
      "execution_count": 9,
      "outputs": []
    },
    {
      "cell_type": "code",
      "metadata": {
        "colab": {
          "base_uri": "https://localhost:8080/",
          "height": 265
        },
        "id": "URzNpAcMpi5e",
        "outputId": "28b77d6c-6831-4ebc-ee9d-d2eb33cce1a8"
      },
      "source": [
        "from sklearn.neighbors import KNeighborsClassifier\n",
        "for i in range(1,50):\n",
        "\n",
        "   knn=KNeighborsClassifier(n_neighbors=i,metric='minkowski',p=1)\n",
        "   knn.fit(X_train,y_train)\n",
        "   knn_accuracy_test.append(knn.score(X_test,y_test))\n",
        "\n",
        "\n",
        "plt.plot(range(1,50),knn_accuracy_test,label='test')\n",
        "plt.show()"
      ],
      "execution_count": 12,
      "outputs": [
        {
          "output_type": "display_data",
          "data": {
            "image/png": "[encoded data removed]",
            "text/plain": [
              "<Figure size 432x288 with 1 Axes>"
            ]
          },
          "metadata": {
            "tags": [],
            "needs_background": "light"
          }
        }
      ]
    }
  ]
}