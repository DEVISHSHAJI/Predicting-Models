{
  "nbformat": 4,
  "nbformat_minor": 0,
  "metadata": {
    "colab": {
      "name": "phaze3.ipynb",
      "provenance": [],
      "collapsed_sections": [],
      "mount_file_id": "18nO1D5b6xHEetKHKDVok7LgUKUPT7WWN",
      "authorship_tag": "ABX9TyNoItURm/7+OZMm8AoSA1ly",
      "include_colab_link": true
    },
    "kernelspec": {
      "name": "python3",
      "display_name": "Python 3"
    },
    "language_info": {
      "name": "python"
    }
  },
  "cells": [
    {
      "cell_type": "markdown",
      "metadata": {
        "id": "view-in-github",
        "colab_type": "text"
      },
      "source": [
        "<a href=\"https://colab.research.google.com/github/fbghkh1999/Multi_predict_model_base-on-different-datasets/blob/main/phaze3.ipynb\" target=\"_parent\"><img src=\"https://colab.research.google.com/assets/colab-badge.svg\" alt=\"Open In Colab\"/></a>"
      ]
    },
    {
      "cell_type": "code",
      "metadata": {
        "id": "I8axnbSs_JDo"
      },
      "source": [
        "import pandas as pd\n",
        "import numpy as np\n",
        "import matplotlib.pyplot as plt\n",
        "from matplotlib import pyplot\n",
        "import seaborn as sns\n",
        "% matplotlib inline"
      ],
      "execution_count": 53,
      "outputs": []
    },
    {
      "cell_type": "code",
      "metadata": {
        "colab": {
          "base_uri": "https://localhost:8080/"
        },
        "id": "doVL3q93cwJM",
        "outputId": "b18680cb-e9d8-4707-8fa8-8afdd8871244"
      },
      "source": [
        "!unrar x \"/content/drive/MyDrive/divar_dataset.rar\" \"/content/drive/MyDrive/divar_dataset/\""
      ],
      "execution_count": 17,
      "outputs": [
        {
          "output_type": "stream",
          "text": [
            "\n",
            "UNRAR 5.50 freeware      Copyright (c) 1993-2017 Alexander Roshal\n",
            "\n",
            "\n",
            "Extracting from /content/drive/MyDrive/divar_dataset.rar\n",
            "\n",
            "Powered By CamelCase.ir :)\n",
            "Enjoy Programming Tutorial With CamelCase.ir .\n",
            "\n",
            "\n",
            "Would you like to replace the existing file /content/drive/MyDrive/divar_dataset/divar_posts_dataset.csv\n",
            "267933697 bytes, modified on 2019-01-31 13:02\n",
            "with a new one\n",
            "267933697 bytes, modified on 2019-01-31 13:02\n",
            "\n",
            "[Y]es, [N]o, [A]ll, n[E]ver, [R]ename, [Q]uit q\n",
            "\n",
            "Program aborted\n"
          ],
          "name": "stdout"
        }
      ]
    },
    {
      "cell_type": "code",
      "metadata": {
        "colab": {
          "base_uri": "https://localhost:8080/"
        },
        "id": "6yBQtlrAO3cy",
        "outputId": "2ad98d1d-2c0f-4c6b-a8b6-be053c3cbc45"
      },
      "source": [
        "!unrar x \"/content/drive/MyDrive/digikala_dataset.rar\" \"/content/drive/MyDrive/digikala_dataset/\""
      ],
      "execution_count": 1,
      "outputs": [
        {
          "output_type": "stream",
          "text": [
            "\n",
            "UNRAR 5.50 freeware      Copyright (c) 1993-2017 Alexander Roshal\n",
            "\n",
            "\n",
            "Extracting from /content/drive/MyDrive/digikala_dataset.rar\n",
            "\n",
            "Creating    /content/drive/MyDrive/digikala_dataset                   OK\n",
            "Extracting  /content/drive/MyDrive/digikala_dataset/product.xlsx         \b\b\b\b  5%\b\b\b\b 10%\b\b\b\b 16%\b\b\b\b 17%\b\b\b\b\b  OK \n",
            "Extracting  /content/drive/MyDrive/digikala_dataset/tarikhche kharid.csv     \b\b\b\b 22%\b\b\b\b 27%\b\b\b\b 33%\b\b\b\b 38%\b\b\b\b 43%\b\b\b\b 48%\b\b\b\b\b  OK \n",
            "Extracting  /content/drive/MyDrive/digikala_dataset/comment.xlsx         \b\b\b\b 53%\b\b\b\b 58%\b\b\b\b 64%\b\b\b\b 69%\b\b\b\b\b  OK \n",
            "Extracting  /content/drive/MyDrive/digikala_dataset/keifiat.xlsx         \b\b\b\b 69%\b\b\b\b 70%\b\b\b\b 71%\b\b\b\b 72%\b\b\b\b 73%\b\b\b\b 74%\b\b\b\b 75%\b\b\b\b 76%\b\b\b\b 77%\b\b\b\b 78%\b\b\b\b 79%\b\b\b\b 80%\b\b\b\b 81%\b\b\b\b 82%\b\b\b\b 83%\b\b\b\b 84%\b\b\b\b 85%\b\b\b\b 86%\b\b\b\b 87%\b\b\b\b 88%\b\b\b\b 89%\b\b\b\b 90%\b\b\b\b 91%\b\b\b\b 92%\b\b\b\b 93%\b\b\b\b 94%\b\b\b\b\b  OK \n",
            "Extracting  /content/drive/MyDrive/digikala_dataset/orders.csv           \b\b\b\b 99%\b\b\b\b\b  OK \n",
            "All OK\n"
          ],
          "name": "stdout"
        }
      ]
    },
    {
      "cell_type": "code",
      "metadata": {
        "id": "UaPKCbSzCWhV"
      },
      "source": [
        "divar=pd.read_csv('/content/drive/MyDrive/divar_dataset/divar_posts_dataset.csv')"
      ],
      "execution_count": 2,
      "outputs": []
    },
    {
      "cell_type": "code",
      "metadata": {
        "colab": {
          "base_uri": "https://localhost:8080/",
          "height": 564
        },
        "id": "cpm40uHuDExH",
        "outputId": "06df7c04-34cb-4f18-9223-d59a078180ef"
      },
      "source": [
        "divar.head()"
      ],
      "execution_count": 3,
      "outputs": [
        {
          "output_type": "execute_result",
          "data": {
            "text/html": [
              "<div>\n",
              "<style scoped>\n",
              "    .dataframe tbody tr th:only-of-type {\n",
              "        vertical-align: middle;\n",
              "    }\n",
              "\n",
              "    .dataframe tbody tr th {\n",
              "        vertical-align: top;\n",
              "    }\n",
              "\n",
              "    .dataframe thead th {\n",
              "        text-align: right;\n",
              "    }\n",
              "</style>\n",
              "<table border=\"1\" class=\"dataframe\">\n",
              "  <thead>\n",
              "    <tr style=\"text-align: right;\">\n",
              "      <th></th>\n",
              "      <th>Unnamed: 0</th>\n",
              "      <th>archive_by_user</th>\n",
              "      <th>brand</th>\n",
              "      <th>cat1</th>\n",
              "      <th>cat2</th>\n",
              "      <th>cat3</th>\n",
              "      <th>city</th>\n",
              "      <th>created_at</th>\n",
              "      <th>desc</th>\n",
              "      <th>id</th>\n",
              "      <th>image_count</th>\n",
              "      <th>mileage</th>\n",
              "      <th>platform</th>\n",
              "      <th>price</th>\n",
              "      <th>title</th>\n",
              "      <th>type</th>\n",
              "      <th>year</th>\n",
              "    </tr>\n",
              "  </thead>\n",
              "  <tbody>\n",
              "    <tr>\n",
              "      <th>0</th>\n",
              "      <td>0</td>\n",
              "      <td>False</td>\n",
              "      <td>NaN</td>\n",
              "      <td>for-the-home</td>\n",
              "      <td>furniture-and-home-decore</td>\n",
              "      <td>sofa-armchair</td>\n",
              "      <td>Tehran</td>\n",
              "      <td>Tuesday 07PM</td>\n",
              "      <td>کلاسیک و شیک و استثنایی\\nچرم مالزی\\nچوب راش\\nف...</td>\n",
              "      <td>54761638662241</td>\n",
              "      <td>5</td>\n",
              "      <td>NaN</td>\n",
              "      <td>mobile</td>\n",
              "      <td>3850000</td>\n",
              "      <td>ست مبلمان و نهارخوری ٩ نفره</td>\n",
              "      <td>NaN</td>\n",
              "      <td>NaN</td>\n",
              "    </tr>\n",
              "    <tr>\n",
              "      <th>1</th>\n",
              "      <td>1</td>\n",
              "      <td>False</td>\n",
              "      <td>NaN</td>\n",
              "      <td>for-the-home</td>\n",
              "      <td>furniture-and-home-decore</td>\n",
              "      <td>antiques-and-art</td>\n",
              "      <td>Mashhad</td>\n",
              "      <td>Tuesday 07PM</td>\n",
              "      <td>سلام,یک عدد گلدون نخل سه طبقه ی سالم دارم با پ...</td>\n",
              "      <td>42727631379133</td>\n",
              "      <td>1</td>\n",
              "      <td>NaN</td>\n",
              "      <td>mobile</td>\n",
              "      <td>30000</td>\n",
              "      <td>گلدون مصنوعی نخل</td>\n",
              "      <td>NaN</td>\n",
              "      <td>NaN</td>\n",
              "    </tr>\n",
              "    <tr>\n",
              "      <th>2</th>\n",
              "      <td>2</td>\n",
              "      <td>False</td>\n",
              "      <td>NaN</td>\n",
              "      <td>vehicles</td>\n",
              "      <td>cars</td>\n",
              "      <td>heavy</td>\n",
              "      <td>Mashhad</td>\n",
              "      <td>Tuesday 07PM</td>\n",
              "      <td>سریال 43j$NUMبدون شکستگی سه حلقه لاستیک نو یک ...</td>\n",
              "      <td>63194439667302</td>\n",
              "      <td>4</td>\n",
              "      <td>NaN</td>\n",
              "      <td>mobile</td>\n",
              "      <td>-1</td>\n",
              "      <td>لودر کاتر پیلار 950</td>\n",
              "      <td>NaN</td>\n",
              "      <td>NaN</td>\n",
              "    </tr>\n",
              "    <tr>\n",
              "      <th>3</th>\n",
              "      <td>3</td>\n",
              "      <td>False</td>\n",
              "      <td>NaN</td>\n",
              "      <td>for-the-home</td>\n",
              "      <td>furniture-and-home-decore</td>\n",
              "      <td>sofa-armchair</td>\n",
              "      <td>Tehran</td>\n",
              "      <td>Tuesday 07PM</td>\n",
              "      <td>مبل راحتی هفت نفره شامل سه نفره یک عدد دونفره ...</td>\n",
              "      <td>19133025491169</td>\n",
              "      <td>4</td>\n",
              "      <td>NaN</td>\n",
              "      <td>mobile</td>\n",
              "      <td>600000</td>\n",
              "      <td>مبل راحتی هفت نفره بامیز جلو مبلی</td>\n",
              "      <td>NaN</td>\n",
              "      <td>NaN</td>\n",
              "    </tr>\n",
              "    <tr>\n",
              "      <th>4</th>\n",
              "      <td>4</td>\n",
              "      <td>False</td>\n",
              "      <td>NaN</td>\n",
              "      <td>personal</td>\n",
              "      <td>baby-and-toys</td>\n",
              "      <td>personal-toys</td>\n",
              "      <td>Karaj</td>\n",
              "      <td>Tuesday 08PM</td>\n",
              "      <td>شارژی کنترلی سویچ حمل تا 35 کیلو صندلی برای دو...</td>\n",
              "      <td>58998998335444</td>\n",
              "      <td>2</td>\n",
              "      <td>NaN</td>\n",
              "      <td>mobile</td>\n",
              "      <td>450000</td>\n",
              "      <td>ماشین شارژی</td>\n",
              "      <td>NaN</td>\n",
              "      <td>NaN</td>\n",
              "    </tr>\n",
              "  </tbody>\n",
              "</table>\n",
              "</div>"
            ],
            "text/plain": [
              "   Unnamed: 0  archive_by_user  ... type year\n",
              "0           0            False  ...  NaN  NaN\n",
              "1           1            False  ...  NaN  NaN\n",
              "2           2            False  ...  NaN  NaN\n",
              "3           3            False  ...  NaN  NaN\n",
              "4           4            False  ...  NaN  NaN\n",
              "\n",
              "[5 rows x 17 columns]"
            ]
          },
          "metadata": {
            "tags": []
          },
          "execution_count": 3
        }
      ]
    },
    {
      "cell_type": "code",
      "metadata": {
        "colab": {
          "base_uri": "https://localhost:8080/"
        },
        "id": "0hYCTbCymX-y",
        "outputId": "6e20014d-3361-4ea7-f129-d694e28842a9"
      },
      "source": [
        "divar.info()"
      ],
      "execution_count": 5,
      "outputs": [
        {
          "output_type": "stream",
          "text": [
            "<class 'pandas.core.frame.DataFrame'>\n",
            "RangeIndex: 947635 entries, 0 to 947634\n",
            "Data columns (total 17 columns):\n",
            " #   Column           Non-Null Count   Dtype  \n",
            "---  ------           --------------   -----  \n",
            " 0   Unnamed: 0       947635 non-null  int64  \n",
            " 1   archive_by_user  947635 non-null  bool   \n",
            " 2   brand            190892 non-null  object \n",
            " 3   cat1             947635 non-null  object \n",
            " 4   cat2             945877 non-null  object \n",
            " 5   cat3             775301 non-null  object \n",
            " 6   city             947635 non-null  object \n",
            " 7   created_at       947635 non-null  object \n",
            " 8   desc             947635 non-null  object \n",
            " 9   id               947635 non-null  int64  \n",
            " 10  image_count      947635 non-null  int64  \n",
            " 11  mileage          120451 non-null  float64\n",
            " 12  platform         947635 non-null  object \n",
            " 13  price            947635 non-null  int64  \n",
            " 14  title            947635 non-null  object \n",
            " 15  type             98529 non-null   object \n",
            " 16  year             120451 non-null  object \n",
            "dtypes: bool(1), float64(1), int64(4), object(11)\n",
            "memory usage: 116.6+ MB\n"
          ],
          "name": "stdout"
        }
      ]
    },
    {
      "cell_type": "code",
      "metadata": {
        "id": "FXGkw9zvkcJg"
      },
      "source": [
        "divar_new=pd.concat([divar['city'],pd.get_dummies(divar[['cat1','cat2','cat3','brand']])],axis=1)"
      ],
      "execution_count": 4,
      "outputs": []
    },
    {
      "cell_type": "code",
      "metadata": {
        "id": "-Vbd9o0KqAVA"
      },
      "source": [
        "X=divar_new.groupby('city').sum()"
      ],
      "execution_count": 5,
      "outputs": []
    },
    {
      "cell_type": "code",
      "metadata": {
        "colab": {
          "base_uri": "https://localhost:8080/",
          "height": 459
        },
        "id": "GAxDCRahbW9P",
        "outputId": "6a216be9-98de-47ea-bbe7-0f710c968825"
      },
      "source": [
        "X"
      ],
      "execution_count": 6,
      "outputs": [
        {
          "output_type": "execute_result",
          "data": {
            "text/html": [
              "<div>\n",
              "<style scoped>\n",
              "    .dataframe tbody tr th:only-of-type {\n",
              "        vertical-align: middle;\n",
              "    }\n",
              "\n",
              "    .dataframe tbody tr th {\n",
              "        vertical-align: top;\n",
              "    }\n",
              "\n",
              "    .dataframe thead th {\n",
              "        text-align: right;\n",
              "    }\n",
              "</style>\n",
              "<table border=\"1\" class=\"dataframe\">\n",
              "  <thead>\n",
              "    <tr style=\"text-align: right;\">\n",
              "      <th></th>\n",
              "      <th>cat1_businesses</th>\n",
              "      <th>cat1_electronic-devices</th>\n",
              "      <th>cat1_for-the-home</th>\n",
              "      <th>cat1_leisure-hobbies</th>\n",
              "      <th>cat1_personal</th>\n",
              "      <th>cat1_vehicles</th>\n",
              "      <th>cat2_animals</th>\n",
              "      <th>cat2_audio-video</th>\n",
              "      <th>cat2_baby-and-toys</th>\n",
              "      <th>cat2_batch</th>\n",
              "      <th>cat2_bicycle</th>\n",
              "      <th>cat2_book-student-literature</th>\n",
              "      <th>cat2_building-and-garden</th>\n",
              "      <th>cat2_cars</th>\n",
              "      <th>cat2_childrens-clothing-and-shoe</th>\n",
              "      <th>cat2_clothing-and-shoes</th>\n",
              "      <th>cat2_computers</th>\n",
              "      <th>cat2_equipments-and-machinery</th>\n",
              "      <th>cat2_furniture-and-home-decore</th>\n",
              "      <th>cat2_game-consoles-and-video-games</th>\n",
              "      <th>cat2_health-beauty</th>\n",
              "      <th>cat2_hobby-collectibles</th>\n",
              "      <th>cat2_jewelry-and-watches</th>\n",
              "      <th>cat2_leisure-hobbies-toys</th>\n",
              "      <th>cat2_mobile-tablet</th>\n",
              "      <th>cat2_motorcycles</th>\n",
              "      <th>cat2_musical-instruments</th>\n",
              "      <th>cat2_parts-accessories</th>\n",
              "      <th>cat2_phone</th>\n",
              "      <th>cat2_sport-leisure</th>\n",
              "      <th>cat2_travel-packages</th>\n",
              "      <th>cat2_utensils-and-appliances</th>\n",
              "      <th>cat2_utility</th>\n",
              "      <th>cat3_accessories</th>\n",
              "      <th>cat3_antiques-and-art</th>\n",
              "      <th>cat3_ball-sports</th>\n",
              "      <th>cat3_barbershop-and-beautysalon</th>\n",
              "      <th>cat3_bathroom-wc-sauna</th>\n",
              "      <th>cat3_beds-bedroom</th>\n",
              "      <th>cat3_birds</th>\n",
              "      <th>...</th>\n",
              "      <th>brand_Huawei::هوآوی</th>\n",
              "      <th>brand_LG::ال‌جی</th>\n",
              "      <th>brand_Lenovo::لنوو</th>\n",
              "      <th>brand_MSI::ام‌اس‌آی</th>\n",
              "      <th>brand_Motorola::موتورلا</th>\n",
              "      <th>brand_Nokia::نوکیا</th>\n",
              "      <th>brand_Samsung::سامسونگ</th>\n",
              "      <th>brand_Sony Ericsson::سونی اریکسون</th>\n",
              "      <th>brand_Sony::سونی</th>\n",
              "      <th>brand_Suzuki::سوزوکی</th>\n",
              "      <th>brand_Toshiba::توشیبا</th>\n",
              "      <th>brand_ViewSonic::ویوسونیک</th>\n",
              "      <th>brand_ZTE::زدتی‌ای</th>\n",
              "      <th>brand_ام‌وی‌ام::MVM</th>\n",
              "      <th>brand_بنز::Mercedes-Benz</th>\n",
              "      <th>brand_بی‌ام‌و::BMW</th>\n",
              "      <th>brand_تندر ۹۰::Tondar 90</th>\n",
              "      <th>brand_تویوتا::Toyota</th>\n",
              "      <th>brand_تیبا::Tiba</th>\n",
              "      <th>brand_دوو::Daewoo</th>\n",
              "      <th>brand_رانا::Runna</th>\n",
              "      <th>brand_رنو::Renault</th>\n",
              "      <th>brand_زانتیا::Citroen Xantia</th>\n",
              "      <th>brand_سایر</th>\n",
              "      <th>brand_سمند::Samand</th>\n",
              "      <th>brand_غیره</th>\n",
              "      <th>brand_لیفان::Lifan</th>\n",
              "      <th>brand_نیسان::Nissan</th>\n",
              "      <th>brand_هیوندای (غیره)::Hyundai</th>\n",
              "      <th>brand_هیوندای سوناتا::Hyundai Sonata</th>\n",
              "      <th>brand_وانت</th>\n",
              "      <th>brand_پراید صندوق‌دار::Pride</th>\n",
              "      <th>brand_پراید هاچ‌بک::Pride</th>\n",
              "      <th>brand_پژو روآ / آر‌دی::RD/ROA</th>\n",
              "      <th>brand_پژو پارس::Peugeot Pars</th>\n",
              "      <th>brand_پژو ۲۰۶‍ صندوق‌دار::Peugeot 206</th>\n",
              "      <th>brand_پژو ۲۰۶‍::Peugeot 206</th>\n",
              "      <th>brand_پژو ۴۰۵::Peugeot 405</th>\n",
              "      <th>brand_پیکان::Peykan</th>\n",
              "      <th>brand_کیا::Kia</th>\n",
              "    </tr>\n",
              "    <tr>\n",
              "      <th>city</th>\n",
              "      <th></th>\n",
              "      <th></th>\n",
              "      <th></th>\n",
              "      <th></th>\n",
              "      <th></th>\n",
              "      <th></th>\n",
              "      <th></th>\n",
              "      <th></th>\n",
              "      <th></th>\n",
              "      <th></th>\n",
              "      <th></th>\n",
              "      <th></th>\n",
              "      <th></th>\n",
              "      <th></th>\n",
              "      <th></th>\n",
              "      <th></th>\n",
              "      <th></th>\n",
              "      <th></th>\n",
              "      <th></th>\n",
              "      <th></th>\n",
              "      <th></th>\n",
              "      <th></th>\n",
              "      <th></th>\n",
              "      <th></th>\n",
              "      <th></th>\n",
              "      <th></th>\n",
              "      <th></th>\n",
              "      <th></th>\n",
              "      <th></th>\n",
              "      <th></th>\n",
              "      <th></th>\n",
              "      <th></th>\n",
              "      <th></th>\n",
              "      <th></th>\n",
              "      <th></th>\n",
              "      <th></th>\n",
              "      <th></th>\n",
              "      <th></th>\n",
              "      <th></th>\n",
              "      <th></th>\n",
              "      <th></th>\n",
              "      <th></th>\n",
              "      <th></th>\n",
              "      <th></th>\n",
              "      <th></th>\n",
              "      <th></th>\n",
              "      <th></th>\n",
              "      <th></th>\n",
              "      <th></th>\n",
              "      <th></th>\n",
              "      <th></th>\n",
              "      <th></th>\n",
              "      <th></th>\n",
              "      <th></th>\n",
              "      <th></th>\n",
              "      <th></th>\n",
              "      <th></th>\n",
              "      <th></th>\n",
              "      <th></th>\n",
              "      <th></th>\n",
              "      <th></th>\n",
              "      <th></th>\n",
              "      <th></th>\n",
              "      <th></th>\n",
              "      <th></th>\n",
              "      <th></th>\n",
              "      <th></th>\n",
              "      <th></th>\n",
              "      <th></th>\n",
              "      <th></th>\n",
              "      <th></th>\n",
              "      <th></th>\n",
              "      <th></th>\n",
              "      <th></th>\n",
              "      <th></th>\n",
              "      <th></th>\n",
              "      <th></th>\n",
              "      <th></th>\n",
              "      <th></th>\n",
              "      <th></th>\n",
              "      <th></th>\n",
              "    </tr>\n",
              "  </thead>\n",
              "  <tbody>\n",
              "    <tr>\n",
              "      <th>Ahvaz</th>\n",
              "      <td>2460.0</td>\n",
              "      <td>9411.0</td>\n",
              "      <td>16997.0</td>\n",
              "      <td>3816.0</td>\n",
              "      <td>4802.0</td>\n",
              "      <td>9677.0</td>\n",
              "      <td>2391.0</td>\n",
              "      <td>1100.0</td>\n",
              "      <td>670.0</td>\n",
              "      <td>606.0</td>\n",
              "      <td>990.0</td>\n",
              "      <td>0.0</td>\n",
              "      <td>1839.0</td>\n",
              "      <td>5699.0</td>\n",
              "      <td>0.0</td>\n",
              "      <td>3218.0</td>\n",
              "      <td>1557.0</td>\n",
              "      <td>1854.0</td>\n",
              "      <td>11507.0</td>\n",
              "      <td>1915.0</td>\n",
              "      <td>519.0</td>\n",
              "      <td>0.0</td>\n",
              "      <td>395.0</td>\n",
              "      <td>0.0</td>\n",
              "      <td>4839.0</td>\n",
              "      <td>698.0</td>\n",
              "      <td>0.0</td>\n",
              "      <td>3280.0</td>\n",
              "      <td>0.0</td>\n",
              "      <td>435.0</td>\n",
              "      <td>0.0</td>\n",
              "      <td>3187.0</td>\n",
              "      <td>464.0</td>\n",
              "      <td>0.0</td>\n",
              "      <td>1032.0</td>\n",
              "      <td>0.0</td>\n",
              "      <td>0.0</td>\n",
              "      <td>0.0</td>\n",
              "      <td>1126.0</td>\n",
              "      <td>2391.0</td>\n",
              "      <td>...</td>\n",
              "      <td>524.0</td>\n",
              "      <td>224.0</td>\n",
              "      <td>74.0</td>\n",
              "      <td>0.0</td>\n",
              "      <td>4.0</td>\n",
              "      <td>206.0</td>\n",
              "      <td>1719.0</td>\n",
              "      <td>35.0</td>\n",
              "      <td>200.0</td>\n",
              "      <td>0.0</td>\n",
              "      <td>0.0</td>\n",
              "      <td>0.0</td>\n",
              "      <td>144.0</td>\n",
              "      <td>0.0</td>\n",
              "      <td>0.0</td>\n",
              "      <td>0.0</td>\n",
              "      <td>0.0</td>\n",
              "      <td>0.0</td>\n",
              "      <td>0.0</td>\n",
              "      <td>0.0</td>\n",
              "      <td>0.0</td>\n",
              "      <td>0.0</td>\n",
              "      <td>0.0</td>\n",
              "      <td>373.0</td>\n",
              "      <td>531.0</td>\n",
              "      <td>0.0</td>\n",
              "      <td>0.0</td>\n",
              "      <td>1.0</td>\n",
              "      <td>333.0</td>\n",
              "      <td>0.0</td>\n",
              "      <td>0.0</td>\n",
              "      <td>1599.0</td>\n",
              "      <td>351.0</td>\n",
              "      <td>0.0</td>\n",
              "      <td>571.0</td>\n",
              "      <td>0.0</td>\n",
              "      <td>402.0</td>\n",
              "      <td>718.0</td>\n",
              "      <td>0.0</td>\n",
              "      <td>0.0</td>\n",
              "    </tr>\n",
              "    <tr>\n",
              "      <th>Isfahan</th>\n",
              "      <td>5198.0</td>\n",
              "      <td>11703.0</td>\n",
              "      <td>15719.0</td>\n",
              "      <td>8037.0</td>\n",
              "      <td>5199.0</td>\n",
              "      <td>15947.0</td>\n",
              "      <td>6493.0</td>\n",
              "      <td>1862.0</td>\n",
              "      <td>521.0</td>\n",
              "      <td>1003.0</td>\n",
              "      <td>1012.0</td>\n",
              "      <td>0.0</td>\n",
              "      <td>892.0</td>\n",
              "      <td>9940.0</td>\n",
              "      <td>0.0</td>\n",
              "      <td>3644.0</td>\n",
              "      <td>1476.0</td>\n",
              "      <td>4195.0</td>\n",
              "      <td>11097.0</td>\n",
              "      <td>2085.0</td>\n",
              "      <td>623.0</td>\n",
              "      <td>0.0</td>\n",
              "      <td>411.0</td>\n",
              "      <td>0.0</td>\n",
              "      <td>6280.0</td>\n",
              "      <td>1974.0</td>\n",
              "      <td>0.0</td>\n",
              "      <td>4033.0</td>\n",
              "      <td>0.0</td>\n",
              "      <td>532.0</td>\n",
              "      <td>0.0</td>\n",
              "      <td>3248.0</td>\n",
              "      <td>482.0</td>\n",
              "      <td>692.0</td>\n",
              "      <td>1390.0</td>\n",
              "      <td>0.0</td>\n",
              "      <td>0.0</td>\n",
              "      <td>0.0</td>\n",
              "      <td>955.0</td>\n",
              "      <td>5214.0</td>\n",
              "      <td>...</td>\n",
              "      <td>612.0</td>\n",
              "      <td>263.0</td>\n",
              "      <td>162.0</td>\n",
              "      <td>0.0</td>\n",
              "      <td>7.0</td>\n",
              "      <td>372.0</td>\n",
              "      <td>1747.0</td>\n",
              "      <td>83.0</td>\n",
              "      <td>268.0</td>\n",
              "      <td>0.0</td>\n",
              "      <td>0.0</td>\n",
              "      <td>1.0</td>\n",
              "      <td>140.0</td>\n",
              "      <td>0.0</td>\n",
              "      <td>0.0</td>\n",
              "      <td>0.0</td>\n",
              "      <td>0.0</td>\n",
              "      <td>0.0</td>\n",
              "      <td>0.0</td>\n",
              "      <td>0.0</td>\n",
              "      <td>0.0</td>\n",
              "      <td>0.0</td>\n",
              "      <td>0.0</td>\n",
              "      <td>777.0</td>\n",
              "      <td>813.0</td>\n",
              "      <td>80.0</td>\n",
              "      <td>0.0</td>\n",
              "      <td>373.0</td>\n",
              "      <td>0.0</td>\n",
              "      <td>0.0</td>\n",
              "      <td>344.0</td>\n",
              "      <td>2179.0</td>\n",
              "      <td>610.0</td>\n",
              "      <td>466.0</td>\n",
              "      <td>957.0</td>\n",
              "      <td>0.0</td>\n",
              "      <td>767.0</td>\n",
              "      <td>867.0</td>\n",
              "      <td>620.0</td>\n",
              "      <td>0.0</td>\n",
              "    </tr>\n",
              "    <tr>\n",
              "      <th>Karaj</th>\n",
              "      <td>6204.0</td>\n",
              "      <td>14378.0</td>\n",
              "      <td>28208.0</td>\n",
              "      <td>4906.0</td>\n",
              "      <td>11996.0</td>\n",
              "      <td>18044.0</td>\n",
              "      <td>3308.0</td>\n",
              "      <td>2841.0</td>\n",
              "      <td>2157.0</td>\n",
              "      <td>862.0</td>\n",
              "      <td>918.0</td>\n",
              "      <td>0.0</td>\n",
              "      <td>1461.0</td>\n",
              "      <td>11541.0</td>\n",
              "      <td>921.0</td>\n",
              "      <td>7359.0</td>\n",
              "      <td>2556.0</td>\n",
              "      <td>5342.0</td>\n",
              "      <td>20359.0</td>\n",
              "      <td>2459.0</td>\n",
              "      <td>866.0</td>\n",
              "      <td>0.0</td>\n",
              "      <td>693.0</td>\n",
              "      <td>0.0</td>\n",
              "      <td>6522.0</td>\n",
              "      <td>951.0</td>\n",
              "      <td>0.0</td>\n",
              "      <td>5552.0</td>\n",
              "      <td>0.0</td>\n",
              "      <td>680.0</td>\n",
              "      <td>0.0</td>\n",
              "      <td>5644.0</td>\n",
              "      <td>744.0</td>\n",
              "      <td>619.0</td>\n",
              "      <td>2449.0</td>\n",
              "      <td>0.0</td>\n",
              "      <td>447.0</td>\n",
              "      <td>0.0</td>\n",
              "      <td>1547.0</td>\n",
              "      <td>2267.0</td>\n",
              "      <td>...</td>\n",
              "      <td>718.0</td>\n",
              "      <td>219.0</td>\n",
              "      <td>258.0</td>\n",
              "      <td>12.0</td>\n",
              "      <td>11.0</td>\n",
              "      <td>340.0</td>\n",
              "      <td>1862.0</td>\n",
              "      <td>97.0</td>\n",
              "      <td>508.0</td>\n",
              "      <td>0.0</td>\n",
              "      <td>11.0</td>\n",
              "      <td>2.0</td>\n",
              "      <td>120.0</td>\n",
              "      <td>366.0</td>\n",
              "      <td>0.0</td>\n",
              "      <td>0.0</td>\n",
              "      <td>0.0</td>\n",
              "      <td>0.0</td>\n",
              "      <td>380.0</td>\n",
              "      <td>0.0</td>\n",
              "      <td>0.0</td>\n",
              "      <td>0.0</td>\n",
              "      <td>0.0</td>\n",
              "      <td>718.0</td>\n",
              "      <td>919.0</td>\n",
              "      <td>82.0</td>\n",
              "      <td>0.0</td>\n",
              "      <td>381.0</td>\n",
              "      <td>0.0</td>\n",
              "      <td>0.0</td>\n",
              "      <td>508.0</td>\n",
              "      <td>3241.0</td>\n",
              "      <td>641.0</td>\n",
              "      <td>516.0</td>\n",
              "      <td>604.0</td>\n",
              "      <td>0.0</td>\n",
              "      <td>1028.0</td>\n",
              "      <td>1184.0</td>\n",
              "      <td>571.0</td>\n",
              "      <td>0.0</td>\n",
              "    </tr>\n",
              "    <tr>\n",
              "      <th>Kermanshah</th>\n",
              "      <td>1587.0</td>\n",
              "      <td>4557.0</td>\n",
              "      <td>5963.0</td>\n",
              "      <td>779.0</td>\n",
              "      <td>4077.0</td>\n",
              "      <td>6167.0</td>\n",
              "      <td>779.0</td>\n",
              "      <td>496.0</td>\n",
              "      <td>0.0</td>\n",
              "      <td>372.0</td>\n",
              "      <td>0.0</td>\n",
              "      <td>0.0</td>\n",
              "      <td>0.0</td>\n",
              "      <td>3003.0</td>\n",
              "      <td>422.0</td>\n",
              "      <td>3655.0</td>\n",
              "      <td>0.0</td>\n",
              "      <td>1215.0</td>\n",
              "      <td>5323.0</td>\n",
              "      <td>1105.0</td>\n",
              "      <td>0.0</td>\n",
              "      <td>0.0</td>\n",
              "      <td>0.0</td>\n",
              "      <td>0.0</td>\n",
              "      <td>2956.0</td>\n",
              "      <td>378.0</td>\n",
              "      <td>0.0</td>\n",
              "      <td>2786.0</td>\n",
              "      <td>0.0</td>\n",
              "      <td>0.0</td>\n",
              "      <td>0.0</td>\n",
              "      <td>640.0</td>\n",
              "      <td>0.0</td>\n",
              "      <td>0.0</td>\n",
              "      <td>768.0</td>\n",
              "      <td>0.0</td>\n",
              "      <td>0.0</td>\n",
              "      <td>0.0</td>\n",
              "      <td>395.0</td>\n",
              "      <td>779.0</td>\n",
              "      <td>...</td>\n",
              "      <td>348.0</td>\n",
              "      <td>107.0</td>\n",
              "      <td>71.0</td>\n",
              "      <td>0.0</td>\n",
              "      <td>9.0</td>\n",
              "      <td>281.0</td>\n",
              "      <td>1039.0</td>\n",
              "      <td>47.0</td>\n",
              "      <td>223.0</td>\n",
              "      <td>0.0</td>\n",
              "      <td>0.0</td>\n",
              "      <td>0.0</td>\n",
              "      <td>71.0</td>\n",
              "      <td>0.0</td>\n",
              "      <td>0.0</td>\n",
              "      <td>0.0</td>\n",
              "      <td>0.0</td>\n",
              "      <td>0.0</td>\n",
              "      <td>0.0</td>\n",
              "      <td>0.0</td>\n",
              "      <td>0.0</td>\n",
              "      <td>0.0</td>\n",
              "      <td>0.0</td>\n",
              "      <td>0.0</td>\n",
              "      <td>362.0</td>\n",
              "      <td>0.0</td>\n",
              "      <td>0.0</td>\n",
              "      <td>0.0</td>\n",
              "      <td>0.0</td>\n",
              "      <td>0.0</td>\n",
              "      <td>0.0</td>\n",
              "      <td>961.0</td>\n",
              "      <td>0.0</td>\n",
              "      <td>0.0</td>\n",
              "      <td>457.0</td>\n",
              "      <td>0.0</td>\n",
              "      <td>0.0</td>\n",
              "      <td>497.0</td>\n",
              "      <td>0.0</td>\n",
              "      <td>0.0</td>\n",
              "    </tr>\n",
              "    <tr>\n",
              "      <th>Mashhad</th>\n",
              "      <td>8097.0</td>\n",
              "      <td>23199.0</td>\n",
              "      <td>40845.0</td>\n",
              "      <td>16177.0</td>\n",
              "      <td>24662.0</td>\n",
              "      <td>25899.0</td>\n",
              "      <td>12247.0</td>\n",
              "      <td>3761.0</td>\n",
              "      <td>2971.0</td>\n",
              "      <td>1346.0</td>\n",
              "      <td>1860.0</td>\n",
              "      <td>801.0</td>\n",
              "      <td>3563.0</td>\n",
              "      <td>16014.0</td>\n",
              "      <td>3155.0</td>\n",
              "      <td>16130.0</td>\n",
              "      <td>3921.0</td>\n",
              "      <td>6751.0</td>\n",
              "      <td>27146.0</td>\n",
              "      <td>3484.0</td>\n",
              "      <td>1083.0</td>\n",
              "      <td>398.0</td>\n",
              "      <td>1323.0</td>\n",
              "      <td>0.0</td>\n",
              "      <td>11686.0</td>\n",
              "      <td>2330.0</td>\n",
              "      <td>0.0</td>\n",
              "      <td>7555.0</td>\n",
              "      <td>0.0</td>\n",
              "      <td>871.0</td>\n",
              "      <td>0.0</td>\n",
              "      <td>8877.0</td>\n",
              "      <td>1259.0</td>\n",
              "      <td>1045.0</td>\n",
              "      <td>4212.0</td>\n",
              "      <td>0.0</td>\n",
              "      <td>502.0</td>\n",
              "      <td>0.0</td>\n",
              "      <td>2152.0</td>\n",
              "      <td>10006.0</td>\n",
              "      <td>...</td>\n",
              "      <td>1456.0</td>\n",
              "      <td>532.0</td>\n",
              "      <td>479.0</td>\n",
              "      <td>17.0</td>\n",
              "      <td>37.0</td>\n",
              "      <td>553.0</td>\n",
              "      <td>3402.0</td>\n",
              "      <td>168.0</td>\n",
              "      <td>816.0</td>\n",
              "      <td>0.0</td>\n",
              "      <td>15.0</td>\n",
              "      <td>2.0</td>\n",
              "      <td>357.0</td>\n",
              "      <td>729.0</td>\n",
              "      <td>0.0</td>\n",
              "      <td>0.0</td>\n",
              "      <td>373.0</td>\n",
              "      <td>0.0</td>\n",
              "      <td>478.0</td>\n",
              "      <td>0.0</td>\n",
              "      <td>0.0</td>\n",
              "      <td>0.0</td>\n",
              "      <td>0.0</td>\n",
              "      <td>1198.0</td>\n",
              "      <td>1165.0</td>\n",
              "      <td>167.0</td>\n",
              "      <td>0.0</td>\n",
              "      <td>450.0</td>\n",
              "      <td>304.0</td>\n",
              "      <td>0.0</td>\n",
              "      <td>586.0</td>\n",
              "      <td>3523.0</td>\n",
              "      <td>1004.0</td>\n",
              "      <td>596.0</td>\n",
              "      <td>1277.0</td>\n",
              "      <td>592.0</td>\n",
              "      <td>1064.0</td>\n",
              "      <td>1221.0</td>\n",
              "      <td>528.0</td>\n",
              "      <td>0.0</td>\n",
              "    </tr>\n",
              "    <tr>\n",
              "      <th>Qom</th>\n",
              "      <td>2043.0</td>\n",
              "      <td>5495.0</td>\n",
              "      <td>8882.0</td>\n",
              "      <td>4804.0</td>\n",
              "      <td>6040.0</td>\n",
              "      <td>4738.0</td>\n",
              "      <td>3720.0</td>\n",
              "      <td>604.0</td>\n",
              "      <td>378.0</td>\n",
              "      <td>629.0</td>\n",
              "      <td>639.0</td>\n",
              "      <td>445.0</td>\n",
              "      <td>524.0</td>\n",
              "      <td>1683.0</td>\n",
              "      <td>606.0</td>\n",
              "      <td>4678.0</td>\n",
              "      <td>455.0</td>\n",
              "      <td>1414.0</td>\n",
              "      <td>6347.0</td>\n",
              "      <td>970.0</td>\n",
              "      <td>378.0</td>\n",
              "      <td>0.0</td>\n",
              "      <td>0.0</td>\n",
              "      <td>0.0</td>\n",
              "      <td>3466.0</td>\n",
              "      <td>1279.0</td>\n",
              "      <td>0.0</td>\n",
              "      <td>1776.0</td>\n",
              "      <td>0.0</td>\n",
              "      <td>0.0</td>\n",
              "      <td>0.0</td>\n",
              "      <td>1652.0</td>\n",
              "      <td>359.0</td>\n",
              "      <td>372.0</td>\n",
              "      <td>942.0</td>\n",
              "      <td>0.0</td>\n",
              "      <td>0.0</td>\n",
              "      <td>0.0</td>\n",
              "      <td>525.0</td>\n",
              "      <td>2904.0</td>\n",
              "      <td>...</td>\n",
              "      <td>470.0</td>\n",
              "      <td>94.0</td>\n",
              "      <td>71.0</td>\n",
              "      <td>0.0</td>\n",
              "      <td>2.0</td>\n",
              "      <td>215.0</td>\n",
              "      <td>1120.0</td>\n",
              "      <td>52.0</td>\n",
              "      <td>198.0</td>\n",
              "      <td>0.0</td>\n",
              "      <td>0.0</td>\n",
              "      <td>0.0</td>\n",
              "      <td>87.0</td>\n",
              "      <td>0.0</td>\n",
              "      <td>0.0</td>\n",
              "      <td>0.0</td>\n",
              "      <td>0.0</td>\n",
              "      <td>0.0</td>\n",
              "      <td>0.0</td>\n",
              "      <td>0.0</td>\n",
              "      <td>0.0</td>\n",
              "      <td>0.0</td>\n",
              "      <td>0.0</td>\n",
              "      <td>0.0</td>\n",
              "      <td>0.0</td>\n",
              "      <td>0.0</td>\n",
              "      <td>0.0</td>\n",
              "      <td>0.0</td>\n",
              "      <td>0.0</td>\n",
              "      <td>0.0</td>\n",
              "      <td>0.0</td>\n",
              "      <td>1133.0</td>\n",
              "      <td>0.0</td>\n",
              "      <td>0.0</td>\n",
              "      <td>0.0</td>\n",
              "      <td>0.0</td>\n",
              "      <td>0.0</td>\n",
              "      <td>550.0</td>\n",
              "      <td>0.0</td>\n",
              "      <td>0.0</td>\n",
              "    </tr>\n",
              "    <tr>\n",
              "      <th>Shiraz</th>\n",
              "      <td>5611.0</td>\n",
              "      <td>14804.0</td>\n",
              "      <td>18315.0</td>\n",
              "      <td>8821.0</td>\n",
              "      <td>8492.0</td>\n",
              "      <td>27927.0</td>\n",
              "      <td>6430.0</td>\n",
              "      <td>2594.0</td>\n",
              "      <td>1663.0</td>\n",
              "      <td>1431.0</td>\n",
              "      <td>1332.0</td>\n",
              "      <td>431.0</td>\n",
              "      <td>1397.0</td>\n",
              "      <td>20072.0</td>\n",
              "      <td>441.0</td>\n",
              "      <td>4725.0</td>\n",
              "      <td>2624.0</td>\n",
              "      <td>4180.0</td>\n",
              "      <td>12298.0</td>\n",
              "      <td>2546.0</td>\n",
              "      <td>757.0</td>\n",
              "      <td>0.0</td>\n",
              "      <td>906.0</td>\n",
              "      <td>0.0</td>\n",
              "      <td>7040.0</td>\n",
              "      <td>1952.0</td>\n",
              "      <td>0.0</td>\n",
              "      <td>5903.0</td>\n",
              "      <td>0.0</td>\n",
              "      <td>628.0</td>\n",
              "      <td>0.0</td>\n",
              "      <td>4089.0</td>\n",
              "      <td>531.0</td>\n",
              "      <td>674.0</td>\n",
              "      <td>1394.0</td>\n",
              "      <td>0.0</td>\n",
              "      <td>0.0</td>\n",
              "      <td>0.0</td>\n",
              "      <td>1286.0</td>\n",
              "      <td>5115.0</td>\n",
              "      <td>...</td>\n",
              "      <td>734.0</td>\n",
              "      <td>205.0</td>\n",
              "      <td>244.0</td>\n",
              "      <td>12.0</td>\n",
              "      <td>7.0</td>\n",
              "      <td>345.0</td>\n",
              "      <td>2033.0</td>\n",
              "      <td>77.0</td>\n",
              "      <td>380.0</td>\n",
              "      <td>2.0</td>\n",
              "      <td>13.0</td>\n",
              "      <td>0.0</td>\n",
              "      <td>136.0</td>\n",
              "      <td>459.0</td>\n",
              "      <td>0.0</td>\n",
              "      <td>0.0</td>\n",
              "      <td>344.0</td>\n",
              "      <td>0.0</td>\n",
              "      <td>532.0</td>\n",
              "      <td>0.0</td>\n",
              "      <td>0.0</td>\n",
              "      <td>319.0</td>\n",
              "      <td>364.0</td>\n",
              "      <td>1274.0</td>\n",
              "      <td>1253.0</td>\n",
              "      <td>63.0</td>\n",
              "      <td>0.0</td>\n",
              "      <td>908.0</td>\n",
              "      <td>303.0</td>\n",
              "      <td>0.0</td>\n",
              "      <td>985.0</td>\n",
              "      <td>3874.0</td>\n",
              "      <td>1080.0</td>\n",
              "      <td>456.0</td>\n",
              "      <td>1550.0</td>\n",
              "      <td>518.0</td>\n",
              "      <td>1149.0</td>\n",
              "      <td>1802.0</td>\n",
              "      <td>1174.0</td>\n",
              "      <td>0.0</td>\n",
              "    </tr>\n",
              "    <tr>\n",
              "      <th>Tabriz</th>\n",
              "      <td>2867.0</td>\n",
              "      <td>6386.0</td>\n",
              "      <td>8648.0</td>\n",
              "      <td>2045.0</td>\n",
              "      <td>5626.0</td>\n",
              "      <td>8442.0</td>\n",
              "      <td>1065.0</td>\n",
              "      <td>658.0</td>\n",
              "      <td>0.0</td>\n",
              "      <td>735.0</td>\n",
              "      <td>602.0</td>\n",
              "      <td>0.0</td>\n",
              "      <td>604.0</td>\n",
              "      <td>5036.0</td>\n",
              "      <td>577.0</td>\n",
              "      <td>4298.0</td>\n",
              "      <td>444.0</td>\n",
              "      <td>2132.0</td>\n",
              "      <td>6789.0</td>\n",
              "      <td>1168.0</td>\n",
              "      <td>381.0</td>\n",
              "      <td>0.0</td>\n",
              "      <td>370.0</td>\n",
              "      <td>0.0</td>\n",
              "      <td>4116.0</td>\n",
              "      <td>573.0</td>\n",
              "      <td>0.0</td>\n",
              "      <td>2833.0</td>\n",
              "      <td>0.0</td>\n",
              "      <td>378.0</td>\n",
              "      <td>0.0</td>\n",
              "      <td>1255.0</td>\n",
              "      <td>0.0</td>\n",
              "      <td>0.0</td>\n",
              "      <td>1337.0</td>\n",
              "      <td>0.0</td>\n",
              "      <td>0.0</td>\n",
              "      <td>0.0</td>\n",
              "      <td>448.0</td>\n",
              "      <td>1065.0</td>\n",
              "      <td>...</td>\n",
              "      <td>439.0</td>\n",
              "      <td>131.0</td>\n",
              "      <td>76.0</td>\n",
              "      <td>0.0</td>\n",
              "      <td>6.0</td>\n",
              "      <td>305.0</td>\n",
              "      <td>1226.0</td>\n",
              "      <td>70.0</td>\n",
              "      <td>226.0</td>\n",
              "      <td>0.0</td>\n",
              "      <td>0.0</td>\n",
              "      <td>0.0</td>\n",
              "      <td>125.0</td>\n",
              "      <td>0.0</td>\n",
              "      <td>0.0</td>\n",
              "      <td>0.0</td>\n",
              "      <td>0.0</td>\n",
              "      <td>0.0</td>\n",
              "      <td>0.0</td>\n",
              "      <td>0.0</td>\n",
              "      <td>0.0</td>\n",
              "      <td>0.0</td>\n",
              "      <td>0.0</td>\n",
              "      <td>448.0</td>\n",
              "      <td>480.0</td>\n",
              "      <td>0.0</td>\n",
              "      <td>0.0</td>\n",
              "      <td>0.0</td>\n",
              "      <td>0.0</td>\n",
              "      <td>0.0</td>\n",
              "      <td>0.0</td>\n",
              "      <td>1289.0</td>\n",
              "      <td>0.0</td>\n",
              "      <td>687.0</td>\n",
              "      <td>332.0</td>\n",
              "      <td>0.0</td>\n",
              "      <td>0.0</td>\n",
              "      <td>613.0</td>\n",
              "      <td>572.0</td>\n",
              "      <td>0.0</td>\n",
              "    </tr>\n",
              "    <tr>\n",
              "      <th>Tehran</th>\n",
              "      <td>27811.0</td>\n",
              "      <td>76574.0</td>\n",
              "      <td>146736.0</td>\n",
              "      <td>34128.0</td>\n",
              "      <td>68270.0</td>\n",
              "      <td>89419.0</td>\n",
              "      <td>14261.0</td>\n",
              "      <td>15260.0</td>\n",
              "      <td>12142.0</td>\n",
              "      <td>4793.0</td>\n",
              "      <td>3930.0</td>\n",
              "      <td>1526.0</td>\n",
              "      <td>8635.0</td>\n",
              "      <td>57455.0</td>\n",
              "      <td>5311.0</td>\n",
              "      <td>39389.0</td>\n",
              "      <td>13503.0</td>\n",
              "      <td>23018.0</td>\n",
              "      <td>103579.0</td>\n",
              "      <td>16232.0</td>\n",
              "      <td>4783.0</td>\n",
              "      <td>2033.0</td>\n",
              "      <td>6218.0</td>\n",
              "      <td>603.0</td>\n",
              "      <td>29402.0</td>\n",
              "      <td>9696.0</td>\n",
              "      <td>3854.0</td>\n",
              "      <td>22268.0</td>\n",
              "      <td>1193.0</td>\n",
              "      <td>6850.0</td>\n",
              "      <td>1071.0</td>\n",
              "      <td>30122.0</td>\n",
              "      <td>4400.0</td>\n",
              "      <td>2569.0</td>\n",
              "      <td>15533.0</td>\n",
              "      <td>779.0</td>\n",
              "      <td>2168.0</td>\n",
              "      <td>1122.0</td>\n",
              "      <td>8216.0</td>\n",
              "      <td>8770.0</td>\n",
              "      <td>...</td>\n",
              "      <td>2079.0</td>\n",
              "      <td>737.0</td>\n",
              "      <td>985.0</td>\n",
              "      <td>74.0</td>\n",
              "      <td>116.0</td>\n",
              "      <td>1417.0</td>\n",
              "      <td>7027.0</td>\n",
              "      <td>381.0</td>\n",
              "      <td>1750.0</td>\n",
              "      <td>0.0</td>\n",
              "      <td>51.0</td>\n",
              "      <td>2.0</td>\n",
              "      <td>634.0</td>\n",
              "      <td>1654.0</td>\n",
              "      <td>591.0</td>\n",
              "      <td>451.0</td>\n",
              "      <td>1272.0</td>\n",
              "      <td>955.0</td>\n",
              "      <td>1867.0</td>\n",
              "      <td>673.0</td>\n",
              "      <td>585.0</td>\n",
              "      <td>909.0</td>\n",
              "      <td>956.0</td>\n",
              "      <td>4167.0</td>\n",
              "      <td>2977.0</td>\n",
              "      <td>401.0</td>\n",
              "      <td>686.0</td>\n",
              "      <td>1559.0</td>\n",
              "      <td>1496.0</td>\n",
              "      <td>350.0</td>\n",
              "      <td>1946.0</td>\n",
              "      <td>10500.0</td>\n",
              "      <td>2288.0</td>\n",
              "      <td>1159.0</td>\n",
              "      <td>2770.0</td>\n",
              "      <td>1622.0</td>\n",
              "      <td>5417.0</td>\n",
              "      <td>4466.0</td>\n",
              "      <td>1376.0</td>\n",
              "      <td>1237.0</td>\n",
              "    </tr>\n",
              "  </tbody>\n",
              "</table>\n",
              "<p>9 rows × 152 columns</p>\n",
              "</div>"
            ],
            "text/plain": [
              "            cat1_businesses  ...  brand_کیا::Kia\n",
              "city                         ...                \n",
              "Ahvaz                2460.0  ...             0.0\n",
              "Isfahan              5198.0  ...             0.0\n",
              "Karaj                6204.0  ...             0.0\n",
              "Kermanshah           1587.0  ...             0.0\n",
              "Mashhad              8097.0  ...             0.0\n",
              "Qom                  2043.0  ...             0.0\n",
              "Shiraz               5611.0  ...             0.0\n",
              "Tabriz               2867.0  ...             0.0\n",
              "Tehran              27811.0  ...          1237.0\n",
              "\n",
              "[9 rows x 152 columns]"
            ]
          },
          "metadata": {
            "tags": []
          },
          "execution_count": 6
        }
      ]
    },
    {
      "cell_type": "code",
      "metadata": {
        "colab": {
          "base_uri": "https://localhost:8080/"
        },
        "id": "cqgYYQPDtD_H",
        "outputId": "3eee9a5f-e121-4897-d0fd-adfe8ed6245a"
      },
      "source": [
        "X.isnull().sum()"
      ],
      "execution_count": 10,
      "outputs": [
        {
          "output_type": "execute_result",
          "data": {
            "text/plain": [
              "cat1_businesses                          0\n",
              "cat1_electronic-devices                  0\n",
              "cat1_for-the-home                        0\n",
              "cat1_leisure-hobbies                     0\n",
              "cat1_personal                            0\n",
              "                                        ..\n",
              "brand_پژو ۲۰۶‍ صندوق‌دار::Peugeot 206    0\n",
              "brand_پژو ۲۰۶‍::Peugeot 206              0\n",
              "brand_پژو ۴۰۵::Peugeot 405               0\n",
              "brand_پیکان::Peykan                      0\n",
              "brand_کیا::Kia                           0\n",
              "Length: 152, dtype: int64"
            ]
          },
          "metadata": {
            "tags": []
          },
          "execution_count": 10
        }
      ]
    },
    {
      "cell_type": "code",
      "metadata": {
        "colab": {
          "base_uri": "https://localhost:8080/"
        },
        "id": "x0Jjqtx0GUyd",
        "outputId": "62334587-addb-4bce-fc45-9ab08f54e8da"
      },
      "source": [
        "from sklearn.cluster  import  DBSCAN\n",
        "cluster=DBSCAN(eps=10, min_samples=5)\n",
        "cluster.fit(X)\n",
        "cluster.labels_"
      ],
      "execution_count": 10,
      "outputs": [
        {
          "output_type": "execute_result",
          "data": {
            "text/plain": [
              "array([-1, -1, -1, -1, -1, -1, -1, -1, -1])"
            ]
          },
          "metadata": {
            "tags": []
          },
          "execution_count": 10
        }
      ]
    },
    {
      "cell_type": "code",
      "metadata": {
        "id": "Fv5ZvPTMEx_w"
      },
      "source": [
        "from sklearn.cluster import KMeans\n",
        "kmeans_evaluation=[]\n",
        "for k in range(1,10):\n",
        "  km= KMeans(n_clusters=k,random_state=44)\n",
        "  km.fit(X)\n",
        "  kmeans_evaluation.append(km.inertia_)"
      ],
      "execution_count": 13,
      "outputs": []
    },
    {
      "cell_type": "code",
      "metadata": {
        "colab": {
          "base_uri": "https://localhost:8080/",
          "height": 276
        },
        "id": "eUt_Bqoux61Y",
        "outputId": "6e880525-5f39-486a-e712-fc34e698a502"
      },
      "source": [
        "plt.plot(np.arange(1,10),kmeans_evaluation)\n",
        "plt.show()"
      ],
      "execution_count": 14,
      "outputs": [
        {
          "output_type": "display_data",
          "data": {
            "image/png": "[encoded data removed]",
            "text/plain": [
              "<Figure size 432x288 with 1 Axes>"
            ]
          },
          "metadata": {
            "tags": [],
            "needs_background": "light"
          }
        }
      ]
    },
    {
      "cell_type": "code",
      "metadata": {
        "id": "Eotm4V2TykNy"
      },
      "source": [
        "#k=3\n",
        "km= KMeans(n_clusters=3,random_state=44)\n",
        "km.fit(X)\n",
        "predict=km.predict(X)\n",
        "\n",
        "\n"
      ],
      "execution_count": 15,
      "outputs": []
    },
    {
      "cell_type": "code",
      "metadata": {
        "colab": {
          "base_uri": "https://localhost:8080/",
          "height": 265
        },
        "id": "INSzj7Cmy8F2",
        "outputId": "51293979-791b-48ba-a88c-6361a5a0f29a"
      },
      "source": [
        "predict\n",
        "V=np.array(X)\n",
        "plt.scatter(V[:,2],V[:,3],c=predict)\n",
        "plt.show()"
      ],
      "execution_count": 16,
      "outputs": [
        {
          "output_type": "display_data",
          "data": {
            "image/png": "[encoded data removed]",
            "text/plain": [
              "<Figure size 432x288 with 1 Axes>"
            ]
          },
          "metadata": {
            "tags": [],
            "needs_background": "light"
          }
        }
      ]
    },
    {
      "cell_type": "code",
      "metadata": {
        "colab": {
          "base_uri": "https://localhost:8080/"
        },
        "id": "_Ic9okUG0ftI",
        "outputId": "ff61c491-adc1-4bb8-8d44-8be1d9fc136c"
      },
      "source": [
        "from sklearn.cluster import AgglomerativeClustering\n",
        "model = AgglomerativeClustering(n_clusters=3)\n",
        "yhat = model.fit_predict(X)\n",
        "clusters = np.unique(yhat)\n",
        "\n",
        "clusters\n",
        "yhat"
      ],
      "execution_count": 17,
      "outputs": [
        {
          "output_type": "execute_result",
          "data": {
            "text/plain": [
              "array([2, 2, 0, 2, 0, 2, 0, 2, 1])"
            ]
          },
          "metadata": {
            "tags": []
          },
          "execution_count": 17
        }
      ]
    },
    {
      "cell_type": "markdown",
      "metadata": {
        "id": "FQVkX4Y50gXr"
      },
      "source": [
        "# part 2"
      ]
    },
    {
      "cell_type": "code",
      "metadata": {
        "id": "XjEfcTBNzA_s"
      },
      "source": [
        "digikala=pd.read_csv('/content/drive/MyDrive/digikala_dataset/orders.csv')"
      ],
      "execution_count": 18,
      "outputs": []
    },
    {
      "cell_type": "code",
      "metadata": {
        "colab": {
          "base_uri": "https://localhost:8080/",
          "height": 204
        },
        "id": "1YL-Y0yhDbsC",
        "outputId": "febf5d91-049e-477c-9cb8-ecf58431f40c"
      },
      "source": [
        "digikala.head()"
      ],
      "execution_count": 19,
      "outputs": [
        {
          "output_type": "execute_result",
          "data": {
            "text/html": [
              "<div>\n",
              "<style scoped>\n",
              "    .dataframe tbody tr th:only-of-type {\n",
              "        vertical-align: middle;\n",
              "    }\n",
              "\n",
              "    .dataframe tbody tr th {\n",
              "        vertical-align: top;\n",
              "    }\n",
              "\n",
              "    .dataframe thead th {\n",
              "        text-align: right;\n",
              "    }\n",
              "</style>\n",
              "<table border=\"1\" class=\"dataframe\">\n",
              "  <thead>\n",
              "    <tr style=\"text-align: right;\">\n",
              "      <th></th>\n",
              "      <th>ID_Order</th>\n",
              "      <th>ID_Customer</th>\n",
              "      <th>ID_Item</th>\n",
              "      <th>DateTime_CartFinalize</th>\n",
              "      <th>Amount_Gross_Order</th>\n",
              "      <th>city_name_fa</th>\n",
              "      <th>Quantity_item</th>\n",
              "    </tr>\n",
              "  </thead>\n",
              "  <tbody>\n",
              "    <tr>\n",
              "      <th>0</th>\n",
              "      <td>2714054</td>\n",
              "      <td>469662</td>\n",
              "      <td>21386</td>\n",
              "      <td>2015-10-15 08:50:56.000</td>\n",
              "      <td>597982.0</td>\n",
              "      <td>محمود آباد</td>\n",
              "      <td>1.0</td>\n",
              "    </tr>\n",
              "    <tr>\n",
              "      <th>1</th>\n",
              "      <td>11104039</td>\n",
              "      <td>3063877</td>\n",
              "      <td>248497</td>\n",
              "      <td>2018-02-11 00:29:26.000</td>\n",
              "      <td>980000.0</td>\n",
              "      <td>خرمدره</td>\n",
              "      <td>1.0</td>\n",
              "    </tr>\n",
              "    <tr>\n",
              "      <th>2</th>\n",
              "      <td>4228130</td>\n",
              "      <td>3184893</td>\n",
              "      <td>50144</td>\n",
              "      <td>2016-06-14 00:30:08.000</td>\n",
              "      <td>229358.0</td>\n",
              "      <td>قرچک</td>\n",
              "      <td>1.0</td>\n",
              "    </tr>\n",
              "    <tr>\n",
              "      <th>3</th>\n",
              "      <td>22225624</td>\n",
              "      <td>6888562</td>\n",
              "      <td>70208</td>\n",
              "      <td>2018-09-03 14:37:19.000</td>\n",
              "      <td>16514.0</td>\n",
              "      <td>قم</td>\n",
              "      <td>1.0</td>\n",
              "    </tr>\n",
              "    <tr>\n",
              "      <th>4</th>\n",
              "      <td>4068771</td>\n",
              "      <td>2533490</td>\n",
              "      <td>67627</td>\n",
              "      <td>2016-05-21 11:51:02.000</td>\n",
              "      <td>133028.0</td>\n",
              "      <td>تهران</td>\n",
              "      <td>1.0</td>\n",
              "    </tr>\n",
              "  </tbody>\n",
              "</table>\n",
              "</div>"
            ],
            "text/plain": [
              "   ID_Order  ID_Customer  ...  city_name_fa Quantity_item\n",
              "0   2714054       469662  ...    محمود آباد           1.0\n",
              "1  11104039      3063877  ...        خرمدره           1.0\n",
              "2   4228130      3184893  ...          قرچک           1.0\n",
              "3  22225624      6888562  ...            قم           1.0\n",
              "4   4068771      2533490  ...         تهران           1.0\n",
              "\n",
              "[5 rows x 7 columns]"
            ]
          },
          "metadata": {
            "tags": []
          },
          "execution_count": 19
        }
      ]
    },
    {
      "cell_type": "code",
      "metadata": {
        "id": "4SaiGNA7Dcgb"
      },
      "source": [
        "Cities=['اهواز','اصفهان', 'قم','تهران','کرج','کرمانشاه','مشهد','شیراز','تبریز']\n",
        "digi_new=digikala.loc[digikala['city_name_fa'].isin(Cities)]"
      ],
      "execution_count": 20,
      "outputs": []
    },
    {
      "cell_type": "code",
      "metadata": {
        "id": "JMITWEj4Dch1"
      },
      "source": [
        "digi_kalaa=pd.concat([digi_new.loc[:6000,'city_name_fa'],pd.get_dummies(digi_new.loc[:6000,'ID_Item'])],axis=1).groupby('city_name_fa').sum()"
      ],
      "execution_count": 21,
      "outputs": []
    },
    {
      "cell_type": "code",
      "metadata": {
        "id": "ntnjcUpz4aLZ"
      },
      "source": [
        "from sklearn.cluster import KMeans\n",
        "kmeans_evaluation3=[]\n",
        "for k in range(1,10):\n",
        "  km= KMeans(n_clusters=k,random_state=44)\n",
        "  km.fit(digi_kalaa)\n",
        "  kmeans_evaluation3.append(km.inertia_)"
      ],
      "execution_count": 22,
      "outputs": []
    },
    {
      "cell_type": "code",
      "metadata": {
        "id": "taLvV4DF4jzd"
      },
      "source": [
        " km= KMeans(n_clusters=3,random_state=44)\n",
        "km.fit(digi_kalaa)\n",
        "per_dig=km.predict(digi_kalaa)"
      ],
      "execution_count": 45,
      "outputs": []
    },
    {
      "cell_type": "code",
      "metadata": {
        "id": "gqzpLUoo46BO"
      },
      "source": [
        "from sklearn.cluster import AgglomerativeClustering\n",
        "model = AgglomerativeClustering(n_clusters=3)\n",
        "yhat1 = model.fit_predict(digi_kalaa)\n",
        "per_dig2 = np.unique(yhat1)"
      ],
      "execution_count": 63,
      "outputs": []
    },
    {
      "cell_type": "code",
      "metadata": {
        "colab": {
          "base_uri": "https://localhost:8080/"
        },
        "id": "PWHt_unbDKrc",
        "outputId": "7b25c3ad-5304-4ab1-edf2-0ff8a4105edc"
      },
      "source": [
        "yhat1"
      ],
      "execution_count": 65,
      "outputs": [
        {
          "output_type": "execute_result",
          "data": {
            "text/plain": [
              "array([0, 0, 0, 1, 0, 0, 2, 0, 0])"
            ]
          },
          "metadata": {
            "tags": []
          },
          "execution_count": 65
        }
      ]
    },
    {
      "cell_type": "code",
      "metadata": {
        "colab": {
          "base_uri": "https://localhost:8080/"
        },
        "id": "6J_bmJYfDQKs",
        "outputId": "ddccd325-26c5-4289-b8ef-33a099c15605"
      },
      "source": [
        "per_dig"
      ],
      "execution_count": 66,
      "outputs": [
        {
          "output_type": "execute_result",
          "data": {
            "text/plain": [
              "array([0, 0, 0, 1, 0, 0, 2, 0, 0], dtype=int32)"
            ]
          },
          "metadata": {
            "tags": []
          },
          "execution_count": 66
        }
      ]
    },
    {
      "cell_type": "markdown",
      "metadata": {
        "id": "W8NpJ8vp5ACP"
      },
      "source": [
        "# part3"
      ]
    },
    {
      "cell_type": "code",
      "metadata": {
        "colab": {
          "base_uri": "https://localhost:8080/",
          "height": 265
        },
        "id": "esBJBfBG5EhH",
        "outputId": "ff953180-3660-4403-de5a-156e126e222d"
      },
      "source": [
        "dig=np.array(digi_kalaa)\n",
        "plt.scatter(dig[:,5],dig[:,6],c=per_dig)\n",
        "plt.show()"
      ],
      "execution_count": 33,
      "outputs": [
        {
          "output_type": "display_data",
          "data": {
            "image/png": "[encoded data removed]",
            "text/plain": [
              "<Figure size 432x288 with 1 Axes>"
            ]
          },
          "metadata": {
            "tags": [],
            "needs_background": "light"
          }
        }
      ]
    },
    {
      "cell_type": "code",
      "metadata": {
        "colab": {
          "base_uri": "https://localhost:8080/",
          "height": 265
        },
        "id": "mpWykKvZ6rIz",
        "outputId": "3981ef0f-3199-4f58-d9c5-04be29953ab5"
      },
      "source": [
        "predict\n",
        "V=np.array(X)\n",
        "plt.scatter(V[:,2],V[:,3],c=predict)\n",
        "plt.show()"
      ],
      "execution_count": 34,
      "outputs": [
        {
          "output_type": "display_data",
          "data": {
            "image/png": "[encoded data removed]",
            "text/plain": [
              "<Figure size 432x288 with 1 Axes>"
            ]
          },
          "metadata": {
            "tags": [],
            "needs_background": "light"
          }
        }
      ]
    },
    {
      "cell_type": "code",
      "metadata": {
        "id": "PrtsUlig7B9g"
      },
      "source": [
        "#divar\n",
        "divar_plot=pd.concat([pd.DataFrame(X.index),pd.DataFrame(predict)],axis=1)"
      ],
      "execution_count": 47,
      "outputs": []
    },
    {
      "cell_type": "code",
      "metadata": {
        "id": "BU9olR---jM2"
      },
      "source": [
        "dig_plot=pd.concat([pd.DataFrame(digi_kalaa.index),pd.DataFrame(per_dig)],axis=1)"
      ],
      "execution_count": 48,
      "outputs": []
    },
    {
      "cell_type": "code",
      "metadata": {
        "colab": {
          "base_uri": "https://localhost:8080/",
          "height": 286
        },
        "id": "aY8fi5n3_F-r",
        "outputId": "18245619-a702-4b81-f15d-a022b1b33c6c"
      },
      "source": [
        "plt.scatter(dig_plot[0],divar_plot['city'])\n",
        "plt.plot()"
      ],
      "execution_count": 59,
      "outputs": [
        {
          "output_type": "execute_result",
          "data": {
            "text/plain": [
              "[]"
            ]
          },
          "metadata": {
            "tags": []
          },
          "execution_count": 59
        },
        {
          "output_type": "display_data",
          "data": {
            "image/png": "[encoded data removed]",
            "text/plain": [
              "<Figure size 432x288 with 1 Axes>"
            ]
          },
          "metadata": {
            "tags": [],
            "needs_background": "light"
          }
        }
      ]
    },
    {
      "cell_type": "code",
      "metadata": {
        "colab": {
          "base_uri": "https://localhost:8080/",
          "height": 286
        },
        "id": "ZLy34L-2B0AY",
        "outputId": "25560373-19c8-4132-d420-d18d501f5e91"
      },
      "source": [
        "plt.scatter(divar_plot[0],divar_plot['city'])\n",
        "plt.plot()"
      ],
      "execution_count": 61,
      "outputs": [
        {
          "output_type": "execute_result",
          "data": {
            "text/plain": [
              "[]"
            ]
          },
          "metadata": {
            "tags": []
          },
          "execution_count": 61
        },
        {
          "output_type": "display_data",
          "data": {
            "image/png": "[encoded data removed]",
            "text/plain": [
              "<Figure size 432x288 with 1 Axes>"
            ]
          },
          "metadata": {
            "tags": [],
            "needs_background": "light"
          }
        }
      ]
    },
    {
      "cell_type": "code",
      "metadata": {
        "colab": {
          "base_uri": "https://localhost:8080/",
          "height": 328
        },
        "id": "XgRU6sO6Cb3N",
        "outputId": "5c012c78-25a8-4b54-da0b-0a6f07ed95f0"
      },
      "source": [
        "divar_plot"
      ],
      "execution_count": 60,
      "outputs": [
        {
          "output_type": "execute_result",
          "data": {
            "text/html": [
              "<div>\n",
              "<style scoped>\n",
              "    .dataframe tbody tr th:only-of-type {\n",
              "        vertical-align: middle;\n",
              "    }\n",
              "\n",
              "    .dataframe tbody tr th {\n",
              "        vertical-align: top;\n",
              "    }\n",
              "\n",
              "    .dataframe thead th {\n",
              "        text-align: right;\n",
              "    }\n",
              "</style>\n",
              "<table border=\"1\" class=\"dataframe\">\n",
              "  <thead>\n",
              "    <tr style=\"text-align: right;\">\n",
              "      <th></th>\n",
              "      <th>city</th>\n",
              "      <th>0</th>\n",
              "    </tr>\n",
              "  </thead>\n",
              "  <tbody>\n",
              "    <tr>\n",
              "      <th>0</th>\n",
              "      <td>Ahvaz</td>\n",
              "      <td>0</td>\n",
              "    </tr>\n",
              "    <tr>\n",
              "      <th>1</th>\n",
              "      <td>Isfahan</td>\n",
              "      <td>0</td>\n",
              "    </tr>\n",
              "    <tr>\n",
              "      <th>2</th>\n",
              "      <td>Karaj</td>\n",
              "      <td>2</td>\n",
              "    </tr>\n",
              "    <tr>\n",
              "      <th>3</th>\n",
              "      <td>Kermanshah</td>\n",
              "      <td>0</td>\n",
              "    </tr>\n",
              "    <tr>\n",
              "      <th>4</th>\n",
              "      <td>Mashhad</td>\n",
              "      <td>2</td>\n",
              "    </tr>\n",
              "    <tr>\n",
              "      <th>5</th>\n",
              "      <td>Qom</td>\n",
              "      <td>0</td>\n",
              "    </tr>\n",
              "    <tr>\n",
              "      <th>6</th>\n",
              "      <td>Shiraz</td>\n",
              "      <td>2</td>\n",
              "    </tr>\n",
              "    <tr>\n",
              "      <th>7</th>\n",
              "      <td>Tabriz</td>\n",
              "      <td>0</td>\n",
              "    </tr>\n",
              "    <tr>\n",
              "      <th>8</th>\n",
              "      <td>Tehran</td>\n",
              "      <td>1</td>\n",
              "    </tr>\n",
              "  </tbody>\n",
              "</table>\n",
              "</div>"
            ],
            "text/plain": [
              "         city  0\n",
              "0       Ahvaz  0\n",
              "1     Isfahan  0\n",
              "2       Karaj  2\n",
              "3  Kermanshah  0\n",
              "4     Mashhad  2\n",
              "5         Qom  0\n",
              "6      Shiraz  2\n",
              "7      Tabriz  0\n",
              "8      Tehran  1"
            ]
          },
          "metadata": {
            "tags": []
          },
          "execution_count": 60
        }
      ]
    },
    {
      "cell_type": "code",
      "metadata": {
        "colab": {
          "base_uri": "https://localhost:8080/",
          "height": 390
        },
        "id": "JUyT9BtRATjd",
        "outputId": "cfcd337c-d68e-4ca7-e387-eb519b0b0d4f"
      },
      "source": [
        "sns.displot(dig_plot)"
      ],
      "execution_count": 54,
      "outputs": [
        {
          "output_type": "execute_result",
          "data": {
            "text/plain": [
              "<seaborn.axisgrid.FacetGrid at 0x7fddca6ea790>"
            ]
          },
          "metadata": {
            "tags": []
          },
          "execution_count": 54
        },
        {
          "output_type": "display_data",
          "data": {
            "image/png": "[encoded data removed]",
            "text/plain": [
              "<Figure size 402.25x360 with 1 Axes>"
            ]
          },
          "metadata": {
            "tags": [],
            "needs_background": "light"
          }
        }
      ]
    },
    {
      "cell_type": "code",
      "metadata": {
        "colab": {
          "base_uri": "https://localhost:8080/",
          "height": 390
        },
        "id": "qYP7L-0lA7wy",
        "outputId": "7b81daa1-24c5-4197-d7f1-1e55477e26fd"
      },
      "source": [
        "sns.displot(divar_plot)"
      ],
      "execution_count": 55,
      "outputs": [
        {
          "output_type": "execute_result",
          "data": {
            "text/plain": [
              "<seaborn.axisgrid.FacetGrid at 0x7fddca998710>"
            ]
          },
          "metadata": {
            "tags": []
          },
          "execution_count": 55
        },
        {
          "output_type": "display_data",
          "data": {
            "image/png": "[encoded data removed]",
            "text/plain": [
              "<Figure size 402.25x360 with 1 Axes>"
            ]
          },
          "metadata": {
            "tags": [],
            "needs_background": "light"
          }
        }
      ]
    },
    {
      "cell_type": "markdown",
      "metadata": {
        "id": "oQY6mvQ-DdMC"
      },
      "source": [
        "#PART4"
      ]
    },
    {
      "cell_type": "code",
      "metadata": {
        "id": "MGCwH9g0Dckw"
      },
      "source": [
        "X_price=divar.groupby('cat2')['price'].mean()"
      ],
      "execution_count": 68,
      "outputs": []
    },
    {
      "cell_type": "code",
      "metadata": {
        "colab": {
          "base_uri": "https://localhost:8080/"
        },
        "id": "B6QCa4VOQUQy",
        "outputId": "a7efbfcf-3585-4947-b87e-681406057ef5"
      },
      "source": [
        "np.array(X_price)"
      ],
      "execution_count": 69,
      "outputs": [
        {
          "output_type": "execute_result",
          "data": {
            "text/plain": [
              "array([1.08965166e+05, 3.59862910e+05, 1.54017290e+05, 1.22520562e+04,\n",
              "       3.28706415e+05, 2.13364714e+04, 2.36240988e+05, 2.22471836e+07,\n",
              "       2.87591087e+04, 7.83570423e+04, 3.42024685e+05, 9.04246931e+05,\n",
              "       4.33065930e+05, 2.07096754e+05, 8.86621561e+04, 2.38793125e+05,\n",
              "       2.44155529e+05, 2.86667877e+05, 5.35765761e+05, 2.58068106e+06,\n",
              "       9.25178511e+05, 1.91985748e+05, 9.59874719e+04, 3.97949671e+05,\n",
              "       2.86133549e+05, 2.91505069e+05, 2.26326655e+05])"
            ]
          },
          "metadata": {
            "tags": []
          },
          "execution_count": 69
        }
      ]
    },
    {
      "cell_type": "code",
      "metadata": {
        "colab": {
          "base_uri": "https://localhost:8080/"
        },
        "id": "RDLrpZj-JeNw",
        "outputId": "ec2db7cc-1640-413c-febc-57c2104e850c"
      },
      "source": [
        "from sklearn.cluster import AgglomerativeClustering\n",
        "model4 = AgglomerativeClustering(n_clusters=2)\n",
        "yhat4 = model.fit_predict(np.array(X_price).reshape(-1,1))\n",
        "yhat4\n",
        "\n"
      ],
      "execution_count": 70,
      "outputs": [
        {
          "output_type": "execute_result",
          "data": {
            "text/plain": [
              "array([0, 0, 0, 0, 0, 0, 0, 1, 0, 0, 0, 0, 0, 0, 0, 0, 0, 0, 0, 2, 0, 0,\n",
              "       0, 0, 0, 0, 0])"
            ]
          },
          "metadata": {
            "tags": []
          },
          "execution_count": 70
        }
      ]
    },
    {
      "cell_type": "code",
      "metadata": {
        "id": "Qttp_91jUWOi"
      },
      "source": [
        "from sklearn.cluster import KMeans\n",
        "kmeans_evaluation4=[]\n",
        "for k in range(1,5):\n",
        "  km= KMeans(n_clusters=k,random_state=44)\n",
        "  km.fit(np.array(X_price).reshape(-1,1))\n",
        "  kmeans_evaluation4.append(km.inertia_)"
      ],
      "execution_count": 71,
      "outputs": []
    },
    {
      "cell_type": "code",
      "metadata": {
        "colab": {
          "base_uri": "https://localhost:8080/",
          "height": 276
        },
        "id": "HV4m6GouUhgT",
        "outputId": "915fff3b-b172-472c-e3b6-106cd46c1dda"
      },
      "source": [
        "plt.plot(np.arange(1,5),kmeans_evaluation4)\n",
        "plt.show()"
      ],
      "execution_count": 72,
      "outputs": [
        {
          "output_type": "display_data",
          "data": {
            "image/png": "[encoded data removed]",
            "text/plain": [
              "<Figure size 432x288 with 1 Axes>"
            ]
          },
          "metadata": {
            "tags": [],
            "needs_background": "light"
          }
        }
      ]
    },
    {
      "cell_type": "code",
      "metadata": {
        "colab": {
          "base_uri": "https://localhost:8080/"
        },
        "id": "qCDXM35yVs1M",
        "outputId": "946ddd19-1a31-4a0b-cb95-b8e578a309ec"
      },
      "source": [
        "km= KMeans(n_clusters=3,random_state=44)\n",
        "km.fit(np.array(X_price).reshape(-1,1))"
      ],
      "execution_count": 73,
      "outputs": [
        {
          "output_type": "execute_result",
          "data": {
            "text/plain": [
              "KMeans(algorithm='auto', copy_x=True, init='k-means++', max_iter=300,\n",
              "       n_clusters=3, n_init=10, n_jobs=None, precompute_distances='auto',\n",
              "       random_state=44, tol=0.0001, verbose=0)"
            ]
          },
          "metadata": {
            "tags": []
          },
          "execution_count": 73
        }
      ]
    },
    {
      "cell_type": "code",
      "metadata": {
        "id": "k13c0zVvWGKc"
      },
      "source": [
        "price_label=km.predict(np.array(X_price).reshape(-1,1))"
      ],
      "execution_count": 74,
      "outputs": []
    },
    {
      "cell_type": "code",
      "metadata": {
        "id": "2zx6vUA5E3GC"
      },
      "source": [
        "from sklearn.cluster import AgglomerativeClustering\n",
        "model = AgglomerativeClustering(n_clusters=3)\n",
        "price_label2 = model.fit_predict(np.array(X_price).reshape(-1,1))\n"
      ],
      "execution_count": 79,
      "outputs": []
    },
    {
      "cell_type": "code",
      "metadata": {
        "colab": {
          "base_uri": "https://localhost:8080/"
        },
        "id": "IohkcvxiFfnD",
        "outputId": "30746c0e-fb26-4fa1-8006-f4d2c5c2b464"
      },
      "source": [
        "price_label2"
      ],
      "execution_count": 80,
      "outputs": [
        {
          "output_type": "execute_result",
          "data": {
            "text/plain": [
              "array([0, 0, 0, 0, 0, 0, 0, 1, 0, 0, 0, 0, 0, 0, 0, 0, 0, 0, 0, 2, 0, 0,\n",
              "       0, 0, 0, 0, 0])"
            ]
          },
          "metadata": {
            "tags": []
          },
          "execution_count": 80
        }
      ]
    }
  ]
}