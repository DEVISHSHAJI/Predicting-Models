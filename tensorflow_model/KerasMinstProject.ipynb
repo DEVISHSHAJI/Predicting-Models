{
  "nbformat": 4,
  "nbformat_minor": 0,
  "metadata": {
    "colab": {
      "name": "AiProject.ipynb",
      "provenance": [],
      "collapsed_sections": [],
      "authorship_tag": "ABX9TyN1s87whmHONHlcYxEnn8ZC",
      "include_colab_link": true
    },
    "kernelspec": {
      "name": "python3",
      "display_name": "Python 3"
    },
    "language_info": {
      "name": "python"
    }
  },
  "cells": [
    {
      "cell_type": "markdown",
      "metadata": {
        "id": "view-in-github",
        "colab_type": "text"
      },
      "source": [
        "<a href=\"https://colab.research.google.com/github/fbghkh1999/Multi_predict_model_base-on-different-datasets/blob/main/tensorflow_model/KerasMinstProject.ipynb\" target=\"_parent\"><img src=\"https://colab.research.google.com/assets/colab-badge.svg\" alt=\"Open In Colab\"/></a>"
      ]
    },
    {
      "cell_type": "code",
      "metadata": {
        "colab": {
          "base_uri": "https://localhost:8080/"
        },
        "id": "dtCzWtSuJKYI",
        "outputId": "aacc8b14-96a4-44be-b7b7-ca8f2e935760"
      },
      "source": [
        "! unzip /content/MNIST.zip"
      ],
      "execution_count": 8,
      "outputs": [
        {
          "output_type": "stream",
          "text": [
            "Archive:  /content/MNIST.zip\n",
            "   creating: MNIST/\n",
            "   creating: MNIST/test/\n",
            "  inflating: MNIST/test/t10k-images.idx3-ubyte  \n",
            "  inflating: MNIST/test/t10k-labels.idx1-ubyte  \n",
            "   creating: MNIST/train/\n",
            "  inflating: MNIST/train/train-images.idx3-ubyte  \n",
            "  inflating: MNIST/train/train-labels.idx1-ubyte  \n"
          ],
          "name": "stdout"
        }
      ]
    },
    {
      "cell_type": "code",
      "metadata": {
        "colab": {
          "base_uri": "https://localhost:8080/"
        },
        "id": "Vqqs9sy3QH8l",
        "outputId": "40923867-d8d8-4427-92f0-3ead6325105a"
      },
      "source": [
        "pip install idx2numpy"
      ],
      "execution_count": 2,
      "outputs": [
        {
          "output_type": "stream",
          "text": [
            "Collecting idx2numpy\n",
            "  Downloading https://files.pythonhosted.org/packages/7e/6b/80628f6cc2f44d80b27f1ef7b57b257ed4c73766113b77d13ad110c091b4/idx2numpy-1.2.3.tar.gz\n",
            "Requirement already satisfied: numpy in /usr/local/lib/python3.7/dist-packages (from idx2numpy) (1.19.5)\n",
            "Requirement already satisfied: six in /usr/local/lib/python3.7/dist-packages (from idx2numpy) (1.15.0)\n",
            "Building wheels for collected packages: idx2numpy\n",
            "  Building wheel for idx2numpy (setup.py) ... \u001b[?25l\u001b[?25hdone\n",
            "  Created wheel for idx2numpy: filename=idx2numpy-1.2.3-cp37-none-any.whl size=7920 sha256=a789fa59a2a0c75741ddc81320aa06e3b95a813764a3ba7c888e483b0af4b2dd\n",
            "  Stored in directory: /root/.cache/pip/wheels/7a/c1/da/284ce80a748fab898b8d1fa95468a386e7cf3b81da18511f9d\n",
            "Successfully built idx2numpy\n",
            "Installing collected packages: idx2numpy\n",
            "Successfully installed idx2numpy-1.2.3\n"
          ],
          "name": "stdout"
        }
      ]
    },
    {
      "cell_type": "code",
      "metadata": {
        "colab": {
          "base_uri": "https://localhost:8080/",
          "height": 286
        },
        "id": "6ONnccdVQRUp",
        "outputId": "877b61b1-ee75-4cba-8fe7-b3335adbe4a4"
      },
      "source": [
        "import numpy as np\n",
        "import idx2numpy\n",
        "import matplotlib.pyplot as plt\n",
        "    \n",
        "imagefile = '/content/MNIST/train/train-images.idx3-ubyte'\n",
        "imagefileLable='/content/MNIST/train/train-labels.idx1-ubyte'\n",
        "X_train = idx2numpy.convert_from_file(imagefile)\n",
        "Y_train=idx2numpy.convert_from_file(imagefileLable)\n",
        "plt.imshow(X_train[4], cmap=plt.cm.binary)"
      ],
      "execution_count": 32,
      "outputs": [
        {
          "output_type": "execute_result",
          "data": {
            "text/plain": [
              "<matplotlib.image.AxesImage at 0x7fe99707ef10>"
            ]
          },
          "metadata": {
            "tags": []
          },
          "execution_count": 32
        },
        {
          "output_type": "display_data",
          "data": {
            "image/png": "[encoded data removed]",
            "text/plain": [
              "<Figure size 432x288 with 1 Axes>"
            ]
          },
          "metadata": {
            "tags": [],
            "needs_background": "light"
          }
        }
      ]
    },
    {
      "cell_type": "code",
      "metadata": {
        "id": "gMYdBnhcRJ_T"
      },
      "source": [
        "from sklearn.cluster import KMeans\n",
        "kmn=KMeans(n_clusters=10,n_init=12,max_iter=400,random_state=42,algorithm='full')\n",
        "nsamples,x,y=X_train.shape\n",
        "X_train=X_train.reshape(nsamples,784)\n",
        "# kmn.fit(X_train)"
      ],
      "execution_count": 27,
      "outputs": []
    },
    {
      "cell_type": "code",
      "metadata": {
        "colab": {
          "base_uri": "https://localhost:8080/",
          "height": 361
        },
        "id": "9aaOiIDDV_2e",
        "outputId": "68624c67-208f-4ea4-9b4c-73672dc46141"
      },
      "source": [
        "kmn.predict(X_train)"
      ],
      "execution_count": 3,
      "outputs": [
        {
          "output_type": "error",
          "ename": "NotFittedError",
          "evalue": "ignored",
          "traceback": [
            "\u001b[0;31m---------------------------------------------------------------------------\u001b[0m",
            "\u001b[0;31mNotFittedError\u001b[0m                            Traceback (most recent call last)",
            "\u001b[0;32m<ipython-input-3-7871151bd2bc>\u001b[0m in \u001b[0;36m<module>\u001b[0;34m()\u001b[0m\n\u001b[0;32m----> 1\u001b[0;31m \u001b[0mkmn\u001b[0m\u001b[0;34m.\u001b[0m\u001b[0mpredict\u001b[0m\u001b[0;34m(\u001b[0m\u001b[0mX_train\u001b[0m\u001b[0;34m)\u001b[0m\u001b[0;34m\u001b[0m\u001b[0;34m\u001b[0m\u001b[0m\n\u001b[0m",
            "\u001b[0;32m/usr/local/lib/python3.7/dist-packages/sklearn/cluster/_kmeans.py\u001b[0m in \u001b[0;36mpredict\u001b[0;34m(self, X, sample_weight)\u001b[0m\n\u001b[1;32m   1083\u001b[0m             \u001b[0mIndex\u001b[0m \u001b[0mof\u001b[0m \u001b[0mthe\u001b[0m \u001b[0mcluster\u001b[0m \u001b[0meach\u001b[0m \u001b[0msample\u001b[0m \u001b[0mbelongs\u001b[0m \u001b[0mto\u001b[0m\u001b[0;34m.\u001b[0m\u001b[0;34m\u001b[0m\u001b[0;34m\u001b[0m\u001b[0m\n\u001b[1;32m   1084\u001b[0m         \"\"\"\n\u001b[0;32m-> 1085\u001b[0;31m         \u001b[0mcheck_is_fitted\u001b[0m\u001b[0;34m(\u001b[0m\u001b[0mself\u001b[0m\u001b[0;34m)\u001b[0m\u001b[0;34m\u001b[0m\u001b[0;34m\u001b[0m\u001b[0m\n\u001b[0m\u001b[1;32m   1086\u001b[0m \u001b[0;34m\u001b[0m\u001b[0m\n\u001b[1;32m   1087\u001b[0m         \u001b[0mX\u001b[0m \u001b[0;34m=\u001b[0m \u001b[0mself\u001b[0m\u001b[0;34m.\u001b[0m\u001b[0m_check_test_data\u001b[0m\u001b[0;34m(\u001b[0m\u001b[0mX\u001b[0m\u001b[0;34m)\u001b[0m\u001b[0;34m\u001b[0m\u001b[0;34m\u001b[0m\u001b[0m\n",
            "\u001b[0;32m/usr/local/lib/python3.7/dist-packages/sklearn/utils/validation.py\u001b[0m in \u001b[0;36mcheck_is_fitted\u001b[0;34m(estimator, attributes, msg, all_or_any)\u001b[0m\n\u001b[1;32m    965\u001b[0m \u001b[0;34m\u001b[0m\u001b[0m\n\u001b[1;32m    966\u001b[0m     \u001b[0;32mif\u001b[0m \u001b[0;32mnot\u001b[0m \u001b[0mattrs\u001b[0m\u001b[0;34m:\u001b[0m\u001b[0;34m\u001b[0m\u001b[0;34m\u001b[0m\u001b[0m\n\u001b[0;32m--> 967\u001b[0;31m         \u001b[0;32mraise\u001b[0m \u001b[0mNotFittedError\u001b[0m\u001b[0;34m(\u001b[0m\u001b[0mmsg\u001b[0m \u001b[0;34m%\u001b[0m \u001b[0;34m{\u001b[0m\u001b[0;34m'name'\u001b[0m\u001b[0;34m:\u001b[0m \u001b[0mtype\u001b[0m\u001b[0;34m(\u001b[0m\u001b[0mestimator\u001b[0m\u001b[0;34m)\u001b[0m\u001b[0;34m.\u001b[0m\u001b[0m__name__\u001b[0m\u001b[0;34m}\u001b[0m\u001b[0;34m)\u001b[0m\u001b[0;34m\u001b[0m\u001b[0;34m\u001b[0m\u001b[0m\n\u001b[0m\u001b[1;32m    968\u001b[0m \u001b[0;34m\u001b[0m\u001b[0m\n\u001b[1;32m    969\u001b[0m \u001b[0;34m\u001b[0m\u001b[0m\n",
            "\u001b[0;31mNotFittedError\u001b[0m: This KMeans instance is not fitted yet. Call 'fit' with appropriate arguments before using this estimator."
          ]
        }
      ]
    },
    {
      "cell_type": "code",
      "metadata": {
        "colab": {
          "base_uri": "https://localhost:8080/"
        },
        "id": "SblHDWveXLrl",
        "outputId": "42a46750-9da1-4923-a0e5-5063a0837dd7"
      },
      "source": [
        "Y_train"
      ],
      "execution_count": 5,
      "outputs": [
        {
          "output_type": "execute_result",
          "data": {
            "text/plain": [
              "array([5, 0, 4, ..., 5, 6, 8], dtype=uint8)"
            ]
          },
          "metadata": {
            "tags": []
          },
          "execution_count": 5
        }
      ]
    },
    {
      "cell_type": "code",
      "metadata": {
        "id": "vqxHTq4eXj3W"
      },
      "source": [
        "testimagefile='/content/MNIST/test/t10k-images.idx3-ubyte'\n",
        "X_test = idx2numpy.convert_from_file(testimagefile)\n",
        "testlabel='/content/MNIST/test/t10k-labels.idx1-ubyte'\n",
        "Y_test=idx2numpy.convert_from_file(testlabel)\n",
        "testsample,testm,testn=X_test.shape\n",
        "X_test=X_test.reshape(testsample,784)"
      ],
      "execution_count": 22,
      "outputs": []
    },
    {
      "cell_type": "code",
      "metadata": {
        "id": "S9Gssv6sXPMX",
        "colab": {
          "base_uri": "https://localhost:8080/"
        },
        "outputId": "32ecc6c9-bf0a-433c-b914-05900e21f7f2"
      },
      "source": [
        "tstlabel=kmn.predict(X_test)\n",
        "Y_test.shape"
      ],
      "execution_count": 7,
      "outputs": [
        {
          "output_type": "execute_result",
          "data": {
            "text/plain": [
              "(10000,)"
            ]
          },
          "metadata": {
            "tags": []
          },
          "execution_count": 7
        }
      ]
    },
    {
      "cell_type": "code",
      "metadata": {
        "colab": {
          "base_uri": "https://localhost:8080/",
          "height": 211
        },
        "id": "LDofo2xsZrQZ",
        "outputId": "6230eb27-93f1-49b7-db88-7525fe2bbf0e"
      },
      "source": [
        "from sklearn.metrics.cluster import adjusted_rand_score\n",
        "adjusted_rand_score(Y_test,tstlabel)"
      ],
      "execution_count": 17,
      "outputs": [
        {
          "output_type": "error",
          "ename": "NameError",
          "evalue": "ignored",
          "traceback": [
            "\u001b[0;31m---------------------------------------------------------------------------\u001b[0m",
            "\u001b[0;31mNameError\u001b[0m                                 Traceback (most recent call last)",
            "\u001b[0;32m<ipython-input-17-9d499a0a4985>\u001b[0m in \u001b[0;36m<module>\u001b[0;34m()\u001b[0m\n\u001b[1;32m      1\u001b[0m \u001b[0;32mfrom\u001b[0m \u001b[0msklearn\u001b[0m\u001b[0;34m.\u001b[0m\u001b[0mmetrics\u001b[0m\u001b[0;34m.\u001b[0m\u001b[0mcluster\u001b[0m \u001b[0;32mimport\u001b[0m \u001b[0madjusted_rand_score\u001b[0m\u001b[0;34m\u001b[0m\u001b[0;34m\u001b[0m\u001b[0m\n\u001b[0;32m----> 2\u001b[0;31m \u001b[0madjusted_rand_score\u001b[0m\u001b[0;34m(\u001b[0m\u001b[0mY_test\u001b[0m\u001b[0;34m,\u001b[0m\u001b[0mtstlabel\u001b[0m\u001b[0;34m)\u001b[0m\u001b[0;34m\u001b[0m\u001b[0;34m\u001b[0m\u001b[0m\n\u001b[0m",
            "\u001b[0;31mNameError\u001b[0m: name 'tstlabel' is not defined"
          ]
        }
      ]
    },
    {
      "cell_type": "code",
      "metadata": {
        "id": "7rb9irThadb9"
      },
      "source": [
        "from sklearn import metrics\n",
        "def purity_score(y_true, y_pred):\n",
        "    # compute contingency matrix (also called confusion matrix)\n",
        "    contingency_matrix = metrics.cluster.contingency_matrix(y_true, y_pred)\n",
        "    # return purity\n",
        "    return np.sum(np.amax(contingency_matrix, axis=0)) / np.sum(contingency_matrix) "
      ],
      "execution_count": 18,
      "outputs": []
    },
    {
      "cell_type": "code",
      "metadata": {
        "colab": {
          "base_uri": "https://localhost:8080/"
        },
        "id": "WROwJzpuax7y",
        "outputId": "98372655-beef-4f71-a956-0295e969eb9b"
      },
      "source": [
        " purity_score(Y_test, tstlabel)\n"
      ],
      "execution_count": null,
      "outputs": [
        {
          "output_type": "execute_result",
          "data": {
            "text/plain": [
              "0.5951"
            ]
          },
          "metadata": {
            "tags": []
          },
          "execution_count": 14
        }
      ]
    },
    {
      "cell_type": "code",
      "metadata": {
        "id": "xRkQUPbjbSj9"
      },
      "source": [
        "import tensorflow.keras as keras\n",
        "from tensorflow.keras.models import Sequential\n",
        "from tensorflow.keras.layers import Dense\n",
        "input_shape=(x*y,)\n",
        "# Create the model\n",
        "model = Sequential()\n",
        "model.add(Dense(350,input_shape=input_shape, activation='relu'))\n",
        "model.add(Dense(50, activation='relu'))\n",
        "model.add(Dense(10, activation='softmax'))"
      ],
      "execution_count": 4,
      "outputs": []
    },
    {
      "cell_type": "code",
      "metadata": {
        "id": "dIbstck1mEVw"
      },
      "source": [
        "from tensorflow.keras.utils import to_categorical\n",
        "np.random.shuffle(Y_train)\n",
        "Y_train = to_categorical(Y_train, 10)\n",
        "Y_test = to_categorical(Y_test, 10)"
      ],
      "execution_count": 28,
      "outputs": []
    },
    {
      "cell_type": "code",
      "metadata": {
        "id": "H7BuRuBngWei"
      },
      "source": [
        "# Configure the model and start training\n",
        "model.compile(loss='categorical_crossentropy', optimizer='adam', metrics=['accuracy'])\n",
        "# imagearray=imagearray.reshape(imagearray.shape[0],784).shape\n",
        "\n"
      ],
      "execution_count": 6,
      "outputs": []
    },
    {
      "cell_type": "code",
      "metadata": {
        "id": "OcCfL7THoLaV"
      },
      "source": [
        "# Convert into greyscale\n",
        "X_train = X_train.astype('float32')\n",
        "X_test = X_test.astype('float32')\n",
        "X_train /= 255\n",
        "X_test /= 255"
      ],
      "execution_count": 29,
      "outputs": []
    },
    {
      "cell_type": "code",
      "metadata": {
        "colab": {
          "base_uri": "https://localhost:8080/"
        },
        "id": "NOx2HX5PlvZC",
        "outputId": "ff499229-3d7a-4df9-86e6-d86d3fb5c07c"
      },
      "source": [
        "model.fit(np.array(X_train), np.array(Y_train), epochs=10, batch_size=250, verbose=1)"
      ],
      "execution_count": null,
      "outputs": [
        {
          "output_type": "stream",
          "text": [
            "Epoch 1/10\n",
            "240/240 [==============================] - 3s 10ms/step - loss: 0.3409 - accuracy: 0.9031\n",
            "Epoch 2/10\n",
            "240/240 [==============================] - 2s 10ms/step - loss: 0.1280 - accuracy: 0.9628\n",
            "Epoch 3/10\n",
            "240/240 [==============================] - 2s 10ms/step - loss: 0.0858 - accuracy: 0.9751\n",
            "Epoch 4/10\n",
            "240/240 [==============================] - 2s 10ms/step - loss: 0.0623 - accuracy: 0.9814\n",
            "Epoch 5/10\n",
            "240/240 [==============================] - 2s 10ms/step - loss: 0.0462 - accuracy: 0.9865\n",
            "Epoch 6/10\n",
            "240/240 [==============================] - 2s 10ms/step - loss: 0.0370 - accuracy: 0.9893\n",
            "Epoch 7/10\n",
            "240/240 [==============================] - 2s 10ms/step - loss: 0.0281 - accuracy: 0.9919\n",
            "Epoch 8/10\n",
            "240/240 [==============================] - 2s 10ms/step - loss: 0.0213 - accuracy: 0.9940\n",
            "Epoch 9/10\n",
            "240/240 [==============================] - 2s 10ms/step - loss: 0.0160 - accuracy: 0.9958\n",
            "Epoch 10/10\n",
            "240/240 [==============================] - 2s 10ms/step - loss: 0.0131 - accuracy: 0.9966\n"
          ],
          "name": "stdout"
        },
        {
          "output_type": "execute_result",
          "data": {
            "text/plain": [
              "<tensorflow.python.keras.callbacks.History at 0x7f7640efc390>"
            ]
          },
          "metadata": {
            "tags": []
          },
          "execution_count": 19
        }
      ]
    },
    {
      "cell_type": "code",
      "metadata": {
        "colab": {
          "base_uri": "https://localhost:8080/"
        },
        "id": "rPFhSS8PoJWS",
        "outputId": "24b558a8-6453-459d-c1c7-607222d1981c"
      },
      "source": [
        "# Test the model after training\n",
        "test_results = model.evaluate(X_test, Y_test, verbose=1)\n",
        "print(f'Test results - Loss: {test_results[0]} - Accuracy: {test_results[1]}%')"
      ],
      "execution_count": null,
      "outputs": [
        {
          "output_type": "stream",
          "text": [
            "313/313 [==============================] - 1s 2ms/step - loss: 0.0705 - accuracy: 0.9795\n",
            "Test results - Loss: 0.07049855589866638 - Accuracy: 0.9794999957084656%\n"
          ],
          "name": "stdout"
        }
      ]
    },
    {
      "cell_type": "code",
      "metadata": {
        "id": "ltwRiAXisgH_"
      },
      "source": [
        "# Y_train=model.predict(np.array(X_train))"
      ],
      "execution_count": null,
      "outputs": []
    },
    {
      "cell_type": "code",
      "metadata": {
        "id": "SUHG7JGd_FPl"
      },
      "source": [
        "y_train=np.random.randint(0,9,60000)\n",
        "y_train\n",
        "y_train=to_categorical(y_train,10)\n"
      ],
      "execution_count": 21,
      "outputs": []
    },
    {
      "cell_type": "code",
      "metadata": {
        "colab": {
          "base_uri": "https://localhost:8080/"
        },
        "id": "dpz766zDk8ia",
        "outputId": "91ab6055-a92a-40d1-c37a-8b5c9f4c80ab"
      },
      "source": [
        "y=Y_train\n",
        "np.random.shuffle(y)"
      ],
      "execution_count": 12,
      "outputs": [
        {
          "output_type": "execute_result",
          "data": {
            "text/plain": [
              "array([1, 4, 1, ..., 2, 6, 2], dtype=uint8)"
            ]
          },
          "metadata": {
            "tags": []
          },
          "execution_count": 12
        }
      ]
    },
    {
      "cell_type": "code",
      "metadata": {
        "colab": {
          "base_uri": "https://localhost:8080/"
        },
        "id": "qS1Bf4QDlWsI",
        "outputId": "56ffbdb4-332c-4f3e-8366-6395d1df9c74"
      },
      "source": [
        "Y_train"
      ],
      "execution_count": 8,
      "outputs": [
        {
          "output_type": "execute_result",
          "data": {
            "text/plain": [
              "array([[0., 0., 0., ..., 0., 0., 1.],\n",
              "       [0., 0., 0., ..., 0., 0., 0.],\n",
              "       [0., 0., 0., ..., 1., 0., 0.],\n",
              "       ...,\n",
              "       [0., 1., 0., ..., 0., 0., 0.],\n",
              "       [0., 0., 0., ..., 0., 0., 1.],\n",
              "       [0., 0., 0., ..., 0., 0., 0.]], dtype=float32)"
            ]
          },
          "metadata": {
            "tags": []
          },
          "execution_count": 8
        }
      ]
    },
    {
      "cell_type": "code",
      "metadata": {
        "colab": {
          "base_uri": "https://localhost:8080/"
        },
        "id": "_Hz7qPaHrsrR",
        "outputId": "85f0aab1-9033-4048-db36-553f6dd807b6"
      },
      "source": [
        "# kmeans with  mlp\n",
        "\n",
        "# np.random.shuffle(np.array(Y_train))\n",
        "s=True\n",
        "count=1\n",
        "while s==True:\n",
        "        # model.compile(loss='categorical_crossentropy', optimizer='adam', metrics=['accuracy'])\n",
        "        model.fit(np.array(X_train), np.array(y_train), epochs=10, batch_size=250, verbose=1)\n",
        "        predict_new=model.predict(np.array(X_train))\n",
        "        count=count+1\n",
        "        if predict_new.all()==y_train.all():\n",
        "          s=False\n",
        "        else:\n",
        "          y_train=predict_new\n",
        "        \n"
      ],
      "execution_count": 30,
      "outputs": [
        {
          "output_type": "stream",
          "text": [
            "Epoch 1/10\n",
            "240/240 [==============================] - 2s 10ms/step - loss: 2.2106 - accuracy: 0.1116\n",
            "Epoch 2/10\n",
            "240/240 [==============================] - 2s 10ms/step - loss: 2.1984 - accuracy: 0.1109\n",
            "Epoch 3/10\n",
            "240/240 [==============================] - 2s 10ms/step - loss: 2.1979 - accuracy: 0.1111\n",
            "Epoch 4/10\n",
            "240/240 [==============================] - 2s 10ms/step - loss: 2.1975 - accuracy: 0.1128\n",
            "Epoch 5/10\n",
            "240/240 [==============================] - 2s 10ms/step - loss: 2.1972 - accuracy: 0.1137\n",
            "Epoch 6/10\n",
            "240/240 [==============================] - 2s 10ms/step - loss: 2.1970 - accuracy: 0.1141\n",
            "Epoch 7/10\n",
            "240/240 [==============================] - 2s 10ms/step - loss: 2.1961 - accuracy: 0.1167\n",
            "Epoch 8/10\n",
            "240/240 [==============================] - 2s 10ms/step - loss: 2.1955 - accuracy: 0.1160\n",
            "Epoch 9/10\n",
            "240/240 [==============================] - 2s 10ms/step - loss: 2.1945 - accuracy: 0.1207\n",
            "Epoch 10/10\n",
            "240/240 [==============================] - 2s 10ms/step - loss: 2.1930 - accuracy: 0.1231\n",
            "Epoch 1/10\n",
            "240/240 [==============================] - 2s 10ms/step - loss: 2.1936 - accuracy: 0.8706\n",
            "Epoch 2/10\n",
            "240/240 [==============================] - 2s 10ms/step - loss: 2.1936 - accuracy: 0.9704\n",
            "Epoch 3/10\n",
            "240/240 [==============================] - 2s 10ms/step - loss: 2.1935 - accuracy: 0.9792\n",
            "Epoch 4/10\n",
            "240/240 [==============================] - 2s 10ms/step - loss: 2.1935 - accuracy: 0.9834\n",
            "Epoch 5/10\n",
            "240/240 [==============================] - 2s 10ms/step - loss: 2.1935 - accuracy: 0.9855\n",
            "Epoch 6/10\n",
            "240/240 [==============================] - 2s 10ms/step - loss: 2.1935 - accuracy: 0.9874\n",
            "Epoch 7/10\n",
            "240/240 [==============================] - 2s 10ms/step - loss: 2.1935 - accuracy: 0.9890\n",
            "Epoch 8/10\n",
            "240/240 [==============================] - 2s 10ms/step - loss: 2.1935 - accuracy: 0.9901\n",
            "Epoch 9/10\n",
            "240/240 [==============================] - 2s 10ms/step - loss: 2.1935 - accuracy: 0.9912\n",
            "Epoch 10/10\n",
            "240/240 [==============================] - 2s 10ms/step - loss: 2.1935 - accuracy: 0.9920\n"
          ],
          "name": "stdout"
        }
      ]
    },
    {
      "cell_type": "code",
      "metadata": {
        "colab": {
          "base_uri": "https://localhost:8080/"
        },
        "id": "sTSZut5efGmi",
        "outputId": "e9431e46-ea19-42cd-90ea-ffc509bbc680"
      },
      "source": [
        "test_results = model.evaluate(X_test, Y_test, verbose=1)"
      ],
      "execution_count": null,
      "outputs": [
        {
          "output_type": "stream",
          "text": [
            "313/313 [==============================] - 1s 2ms/step - loss: 3.0245 - accuracy: 0.1171\n"
          ],
          "name": "stdout"
        }
      ]
    },
    {
      "cell_type": "code",
      "metadata": {
        "id": "v6Yu8sAegGMR",
        "colab": {
          "base_uri": "https://localhost:8080/"
        },
        "outputId": "b78cc71c-24c2-41d9-fe6b-8e809594dff5"
      },
      "source": [
        "count"
      ],
      "execution_count": null,
      "outputs": [
        {
          "output_type": "execute_result",
          "data": {
            "text/plain": [
              "3"
            ]
          },
          "metadata": {
            "tags": []
          },
          "execution_count": 23
        }
      ]
    },
    {
      "cell_type": "code",
      "metadata": {
        "id": "a1nx9jc0TAYi"
      },
      "source": [
        "predict_new\n",
        "y_p=np.argmax(predict_new, axis=1, out=None)"
      ],
      "execution_count": 31,
      "outputs": []
    },
    {
      "cell_type": "code",
      "metadata": {
        "colab": {
          "base_uri": "https://localhost:8080/"
        },
        "id": "baB5H4S1pQB8",
        "outputId": "55edfe9c-d07b-418c-d1ea-4aa92668882f"
      },
      "source": [
        "purity_score(Y_train,y_p)"
      ],
      "execution_count": 33,
      "outputs": [
        {
          "output_type": "execute_result",
          "data": {
            "text/plain": [
              "0.1625"
            ]
          },
          "metadata": {
            "tags": []
          },
          "execution_count": 33
        }
      ]
    }
  ]
}